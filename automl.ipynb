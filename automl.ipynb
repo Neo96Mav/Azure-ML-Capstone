{
 "cells": [
  {
   "cell_type": "markdown",
   "metadata": {},
   "source": [
    "# Automated ML"
   ]
  },
  {
   "cell_type": "code",
   "execution_count": 2,
   "metadata": {
    "gather": {
     "logged": 1598423888013
    },
    "jupyter": {
     "outputs_hidden": false,
     "source_hidden": false
    },
    "nteract": {
     "transient": {
      "deleting": false
     }
    }
   },
   "outputs": [],
   "source": [
    "from azureml.core import Workspace, Experiment"
   ]
  },
  {
   "cell_type": "markdown",
   "metadata": {},
   "source": [
    "## Dataset\n",
    "\n",
    "### Overview\n",
    "I will be using the Credit Card Default dataset from the UCI Machine Learning Repository. The dataset can be found here - https://archive.ics.uci.edu/ml/datasets/default+of+credit+card+clients#\n",
    "\n",
    "As mentioned on the site, it can be used to model customer default behaviour. My task will be to use the dataset to perform classification. We will first have to clean the dataset to one-hot encode certain columns, and then we can use the dataset for training using AutoML and Hyperdrive\n",
    "\n",
    "I have downloaded the .csv file and created a Dataset in my Azure Workspace. I will load the dataset from the workspace"
   ]
  },
  {
   "cell_type": "code",
   "execution_count": 2,
   "metadata": {
    "gather": {
     "logged": 1598423890461
    },
    "jupyter": {
     "outputs_hidden": false,
     "source_hidden": false
    },
    "nteract": {
     "transient": {
      "deleting": false
     }
    }
   },
   "outputs": [],
   "source": [
    "ws = Workspace.from_config()\n",
    "# choose a name for experiment\n",
    "experiment_name = 'capstone-project'\n",
    "experiment=Experiment(ws, experiment_name)"
   ]
  },
  {
   "cell_type": "code",
   "execution_count": 3,
   "metadata": {},
   "outputs": [
    {
     "name": "stdout",
     "output_type": "stream",
     "text": [
      "Found Dataset\n"
     ]
    }
   ],
   "source": [
    "name = \"credit-card-default\"\n",
    "\n",
    "if name in ws.datasets.keys(): \n",
    "        found = True\n",
    "        print(\"Found Dataset\")\n",
    "        dataset = ws.datasets[name] \n",
    "else: \n",
    "    print(\"Create the dataset first...\")\n",
    "\n",
    "df = dataset.to_pandas_dataframe()"
   ]
  },
  {
   "cell_type": "code",
   "execution_count": 10,
   "metadata": {},
   "outputs": [
    {
     "name": "stdout",
     "output_type": "stream",
     "text": [
      "Uploading an estimated of 1 files\n",
      "Uploading ./data/cleaned_dataset.csv\n",
      "Uploaded ./data/cleaned_dataset.csv, 1 files out of an estimated total of 1\n",
      "Uploaded 1 files\n"
     ]
    },
    {
     "data": {
      "text/plain": [
       "$AZUREML_DATAREFERENCE_d765c4b9edbc4ca0b9473b9318c1f0b5"
      ]
     },
     "execution_count": 10,
     "metadata": {},
     "output_type": "execute_result"
    }
   ],
   "source": [
    "from train import clean_dataset\n",
    "#We clean the dataset, and then upload the cleaned data on the datastore so we can use it later\n",
    "\n",
    "dataset = clean_dataset(df)\n",
    "if \"data\" not in os.listdir():\n",
    "    os.mkdir(\"./data\")\n",
    "dataset.to_csv(\"data/cleaned_dataset.csv\", index=False)\n",
    "ds = ws.get_default_datastore()\n",
    "ds.upload(src_dir='./data', target_path='train_data', overwrite=True, show_progress=True)"
   ]
  },
  {
   "cell_type": "code",
   "execution_count": 11,
   "metadata": {},
   "outputs": [],
   "source": [
    "from azureml.core.dataset import Dataset\n",
    "dataset = Dataset.Tabular.from_delimited_files(path=ds.path(\"train_data/cleaned_dataset.csv\"))"
   ]
  },
  {
   "cell_type": "markdown",
   "metadata": {},
   "source": [
    "We now load the cluster, and if it doesn't exist, we create one"
   ]
  },
  {
   "cell_type": "code",
   "execution_count": 15,
   "metadata": {},
   "outputs": [
    {
     "name": "stdout",
     "output_type": "stream",
     "text": [
      "Found existing compute target\n",
      "Succeeded\n",
      "AmlCompute wait for completion finished\n",
      "\n",
      "Minimum number of nodes requested have been provisioned\n"
     ]
    }
   ],
   "source": [
    "from azureml.core.compute import ComputeTarget, AmlCompute\n",
    "from azureml.core.compute_target import ComputeTargetException\n",
    "\n",
    "cluster_name = \"compute-train\"\n",
    "\n",
    "try:\n",
    "    compute_target = ComputeTarget(workspace=ws, name=cluster_name)\n",
    "    print('Found existing compute target')\n",
    "except ComputeTargetException:\n",
    "    print('Creating a new compute target...')\n",
    "    compute_config = AmlCompute.provisioning_configuration(vm_size='STANDARD_D2_V2', \n",
    "                                                           max_nodes=4)\n",
    "    compute_target = ComputeTarget.create(ws, cluster_name, compute_config)\n",
    "    \n",
    "compute_target.wait_for_completion(show_output=True)"
   ]
  },
  {
   "cell_type": "markdown",
   "metadata": {},
   "source": [
    "## AutoML Configuration\n",
    "\n",
    "For using Azure AutoML, we have to first import it. I set it to run for 20 minutes, since I feel 20 minutes is enough time for training some good models. I also select the compute cluster that the AutoML should use, and set the number of cross validations to be performed to be 4. Cross Validation is important here, since we don't have a separate validation dataset."
   ]
  },
  {
   "cell_type": "code",
   "execution_count": 16,
   "metadata": {
    "gather": {
     "logged": 1598429217746
    },
    "jupyter": {
     "outputs_hidden": false,
     "source_hidden": false
    },
    "nteract": {
     "transient": {
      "deleting": false
     }
    }
   },
   "outputs": [],
   "source": [
    "from azureml.train.automl import AutoMLConfig\n",
    "\n",
    "automl_settings = {\n",
    "    \"experiment_timeout_minutes\": 20,\n",
    "    \"compute_target\": compute_target, \n",
    "    \"n_cross_validations\": 4\n",
    "}\n",
    "\n",
    "automl_config = AutoMLConfig(\n",
    "    task='classification',\n",
    "    primary_metric='accuracy',\n",
    "    training_data= dataset,\n",
    "    label_column_name=\"Y\", \n",
    "    **automl_settings)"
   ]
  },
  {
   "cell_type": "code",
   "execution_count": 17,
   "metadata": {
    "gather": {
     "logged": 1598431107951
    },
    "jupyter": {
     "outputs_hidden": false,
     "source_hidden": false
    },
    "nteract": {
     "transient": {
      "deleting": false
     }
    }
   },
   "outputs": [
    {
     "name": "stdout",
     "output_type": "stream",
     "text": [
      "Running on remote.\n"
     ]
    }
   ],
   "source": [
    "remote_run = experiment.submit(automl_config)"
   ]
  },
  {
   "cell_type": "markdown",
   "metadata": {},
   "source": [
    "## Run Details\n",
    "\n",
    "OPTIONAL: Write about the different models trained and their performance. Why do you think some models did better than others?\n",
    "\n",
    "TODO: In the cell below, use the `RunDetails` widget to show the different experiments."
   ]
  },
  {
   "cell_type": "code",
   "execution_count": 19,
   "metadata": {
    "gather": {
     "logged": 1598431121770
    },
    "jupyter": {
     "outputs_hidden": false,
     "source_hidden": false
    },
    "nteract": {
     "transient": {
      "deleting": false
     }
    }
   },
   "outputs": [
    {
     "data": {
      "application/vnd.jupyter.widget-view+json": {
       "model_id": "8bb55fd00de9437bb4a6577e54f76db4",
       "version_major": 2,
       "version_minor": 0
      },
      "text/plain": [
       "_AutoMLWidget(widget_settings={'childWidgetDisplay': 'popup', 'send_telemetry': False, 'log_level': 'INFO', 's…"
      ]
     },
     "metadata": {},
     "output_type": "display_data"
    },
    {
     "data": {
      "application/aml.mini.widget.v1": "{\"status\": \"Completed\", \"workbench_run_details_uri\": \"https://ml.azure.com/experiments/capstone-project/runs/AutoML_ccde6c0d-a9c9-4a73-9f7a-57fb995e324c?wsid=/subscriptions/f5878af0-ca26-411c-9906-acf91f5420e2/resourcegroups/grouprisk/workspaces/msc-lrn-dev\", \"run_id\": \"AutoML_ccde6c0d-a9c9-4a73-9f7a-57fb995e324c\", \"run_properties\": {\"run_id\": \"AutoML_ccde6c0d-a9c9-4a73-9f7a-57fb995e324c\", \"created_utc\": \"2021-02-13T22:38:45.622081Z\", \"properties\": {\"num_iterations\": \"1000\", \"training_type\": \"TrainFull\", \"acquisition_function\": \"EI\", \"primary_metric\": \"accuracy\", \"train_split\": \"0\", \"acquisition_parameter\": \"0\", \"num_cross_validation\": \"4\", \"target\": \"compute-train\", \"AMLSettingsJsonString\": \"{\\\"path\\\":null,\\\"name\\\":\\\"capstone-project\\\",\\\"subscription_id\\\":\\\"f5878af0-ca26-411c-9906-acf91f5420e2\\\",\\\"resource_group\\\":\\\"grouprisk\\\",\\\"workspace_name\\\":\\\"msc-lrn-dev\\\",\\\"region\\\":\\\"westeurope\\\",\\\"compute_target\\\":\\\"compute-train\\\",\\\"spark_service\\\":null,\\\"azure_service\\\":\\\"remote\\\",\\\"many_models\\\":false,\\\"pipeline_fetch_max_batch_size\\\":1,\\\"iterations\\\":1000,\\\"primary_metric\\\":\\\"accuracy\\\",\\\"task_type\\\":\\\"classification\\\",\\\"data_script\\\":null,\\\"validation_size\\\":0.0,\\\"n_cross_validations\\\":4,\\\"y_min\\\":null,\\\"y_max\\\":null,\\\"num_classes\\\":null,\\\"featurization\\\":\\\"auto\\\",\\\"_ignore_package_version_incompatibilities\\\":false,\\\"is_timeseries\\\":false,\\\"max_cores_per_iteration\\\":1,\\\"max_concurrent_iterations\\\":1,\\\"iteration_timeout_minutes\\\":null,\\\"mem_in_mb\\\":null,\\\"enforce_time_on_windows\\\":false,\\\"experiment_timeout_minutes\\\":20,\\\"experiment_exit_score\\\":null,\\\"whitelist_models\\\":null,\\\"blacklist_algos\\\":[\\\"TensorFlowLinearClassifier\\\",\\\"TensorFlowDNN\\\"],\\\"supported_models\\\":[\\\"GradientBoosting\\\",\\\"LinearSVM\\\",\\\"LogisticRegression\\\",\\\"DecisionTree\\\",\\\"ExtremeRandomTrees\\\",\\\"AveragedPerceptronClassifier\\\",\\\"SGD\\\",\\\"TensorFlowDNN\\\",\\\"TensorFlowLinearClassifier\\\",\\\"SVM\\\",\\\"BernoulliNaiveBayes\\\",\\\"RandomForest\\\",\\\"KNN\\\",\\\"XGBoostClassifier\\\",\\\"MultinomialNaiveBayes\\\",\\\"LightGBM\\\"],\\\"auto_blacklist\\\":true,\\\"blacklist_samples_reached\\\":false,\\\"exclude_nan_labels\\\":true,\\\"verbosity\\\":20,\\\"_debug_log\\\":\\\"azureml_automl.log\\\",\\\"show_warnings\\\":false,\\\"model_explainability\\\":true,\\\"service_url\\\":null,\\\"sdk_url\\\":null,\\\"sdk_packages\\\":null,\\\"enable_onnx_compatible_models\\\":false,\\\"enable_split_onnx_featurizer_estimator_models\\\":false,\\\"vm_type\\\":\\\"STANDARD_DS2_V2\\\",\\\"telemetry_verbosity\\\":20,\\\"send_telemetry\\\":true,\\\"enable_dnn\\\":false,\\\"scenario\\\":\\\"SDK-1.13.0\\\",\\\"environment_label\\\":null,\\\"force_text_dnn\\\":false,\\\"enable_feature_sweeping\\\":true,\\\"enable_early_stopping\\\":false,\\\"early_stopping_n_iters\\\":10,\\\"metrics\\\":null,\\\"enable_ensembling\\\":true,\\\"enable_stack_ensembling\\\":true,\\\"ensemble_iterations\\\":15,\\\"enable_tf\\\":false,\\\"enable_subsampling\\\":null,\\\"subsample_seed\\\":null,\\\"enable_nimbusml\\\":false,\\\"enable_streaming\\\":false,\\\"force_streaming\\\":false,\\\"track_child_runs\\\":true,\\\"allowed_private_models\\\":[],\\\"label_column_name\\\":\\\"Y\\\",\\\"weight_column_name\\\":null,\\\"cv_split_column_names\\\":null,\\\"enable_local_managed\\\":false,\\\"_local_managed_run_id\\\":null,\\\"cost_mode\\\":1,\\\"lag_length\\\":0,\\\"metric_operation\\\":\\\"maximize\\\",\\\"preprocess\\\":true}\", \"DataPrepJsonString\": \"{\\\\\\\"training_data\\\\\\\": \\\\\\\"{\\\\\\\\\\\\\\\"blocks\\\\\\\\\\\\\\\": [{\\\\\\\\\\\\\\\"id\\\\\\\\\\\\\\\": \\\\\\\\\\\\\\\"3521da30-64a7-4b6a-827b-27947f3c4b59\\\\\\\\\\\\\\\", \\\\\\\\\\\\\\\"type\\\\\\\\\\\\\\\": \\\\\\\\\\\\\\\"Microsoft.DPrep.GetDatastoreFilesBlock\\\\\\\\\\\\\\\", \\\\\\\\\\\\\\\"arguments\\\\\\\\\\\\\\\": {\\\\\\\\\\\\\\\"datastores\\\\\\\\\\\\\\\": [{\\\\\\\\\\\\\\\"datastoreName\\\\\\\\\\\\\\\": \\\\\\\\\\\\\\\"workspaceblobstore\\\\\\\\\\\\\\\", \\\\\\\\\\\\\\\"path\\\\\\\\\\\\\\\": \\\\\\\\\\\\\\\"train_data/cleaned_dataset.csv\\\\\\\\\\\\\\\", \\\\\\\\\\\\\\\"resourceGroup\\\\\\\\\\\\\\\": \\\\\\\\\\\\\\\"grouprisk\\\\\\\\\\\\\\\", \\\\\\\\\\\\\\\"subscription\\\\\\\\\\\\\\\": \\\\\\\\\\\\\\\"f5878af0-ca26-411c-9906-acf91f5420e2\\\\\\\\\\\\\\\", \\\\\\\\\\\\\\\"workspaceName\\\\\\\\\\\\\\\": \\\\\\\\\\\\\\\"msc-lrn-dev\\\\\\\\\\\\\\\"}]}, \\\\\\\\\\\\\\\"localData\\\\\\\\\\\\\\\": {}, \\\\\\\\\\\\\\\"isEnabled\\\\\\\\\\\\\\\": true, \\\\\\\\\\\\\\\"name\\\\\\\\\\\\\\\": null, \\\\\\\\\\\\\\\"annotation\\\\\\\\\\\\\\\": null}, {\\\\\\\\\\\\\\\"id\\\\\\\\\\\\\\\": \\\\\\\\\\\\\\\"2fb6c419-5315-40a2-a51b-04a02edfd4c1\\\\\\\\\\\\\\\", \\\\\\\\\\\\\\\"type\\\\\\\\\\\\\\\": \\\\\\\\\\\\\\\"Microsoft.DPrep.ParseDelimitedBlock\\\\\\\\\\\\\\\", \\\\\\\\\\\\\\\"arguments\\\\\\\\\\\\\\\": {\\\\\\\\\\\\\\\"columnHeadersMode\\\\\\\\\\\\\\\": 3, \\\\\\\\\\\\\\\"fileEncoding\\\\\\\\\\\\\\\": 0, \\\\\\\\\\\\\\\"handleQuotedLineBreaks\\\\\\\\\\\\\\\": false, \\\\\\\\\\\\\\\"preview\\\\\\\\\\\\\\\": false, \\\\\\\\\\\\\\\"separator\\\\\\\\\\\\\\\": \\\\\\\\\\\\\\\",\\\\\\\\\\\\\\\", \\\\\\\\\\\\\\\"skipRows\\\\\\\\\\\\\\\": 0, \\\\\\\\\\\\\\\"skipRowsMode\\\\\\\\\\\\\\\": 0}, \\\\\\\\\\\\\\\"localData\\\\\\\\\\\\\\\": {}, \\\\\\\\\\\\\\\"isEnabled\\\\\\\\\\\\\\\": true, \\\\\\\\\\\\\\\"name\\\\\\\\\\\\\\\": null, \\\\\\\\\\\\\\\"annotation\\\\\\\\\\\\\\\": null}, {\\\\\\\\\\\\\\\"id\\\\\\\\\\\\\\\": \\\\\\\\\\\\\\\"c3111cb3-a504-463e-81dc-3e513a4ae78d\\\\\\\\\\\\\\\", \\\\\\\\\\\\\\\"type\\\\\\\\\\\\\\\": \\\\\\\\\\\\\\\"Microsoft.DPrep.DropColumnsBlock\\\\\\\\\\\\\\\", \\\\\\\\\\\\\\\"arguments\\\\\\\\\\\\\\\": {\\\\\\\\\\\\\\\"columns\\\\\\\\\\\\\\\": {\\\\\\\\\\\\\\\"type\\\\\\\\\\\\\\\": 0, \\\\\\\\\\\\\\\"details\\\\\\\\\\\\\\\": {\\\\\\\\\\\\\\\"selectedColumns\\\\\\\\\\\\\\\": [\\\\\\\\\\\\\\\"Path\\\\\\\\\\\\\\\"]}}}, \\\\\\\\\\\\\\\"localData\\\\\\\\\\\\\\\": {}, \\\\\\\\\\\\\\\"isEnabled\\\\\\\\\\\\\\\": true, \\\\\\\\\\\\\\\"name\\\\\\\\\\\\\\\": null, \\\\\\\\\\\\\\\"annotation\\\\\\\\\\\\\\\": null}, {\\\\\\\\\\\\\\\"id\\\\\\\\\\\\\\\": \\\\\\\\\\\\\\\"f9336b8c-acfe-4c51-bd1b-9c7c1bdb45c9\\\\\\\\\\\\\\\", \\\\\\\\\\\\\\\"type\\\\\\\\\\\\\\\": \\\\\\\\\\\\\\\"Microsoft.DPrep.SetColumnTypesBlock\\\\\\\\\\\\\\\", \\\\\\\\\\\\\\\"arguments\\\\\\\\\\\\\\\": {\\\\\\\\\\\\\\\"columnConversion\\\\\\\\\\\\\\\": [{\\\\\\\\\\\\\\\"column\\\\\\\\\\\\\\\": {\\\\\\\\\\\\\\\"type\\\\\\\\\\\\\\\": 2, \\\\\\\\\\\\\\\"details\\\\\\\\\\\\\\\": {\\\\\\\\\\\\\\\"selectedColumn\\\\\\\\\\\\\\\": \\\\\\\\\\\\\\\"LIMIT_BAL\\\\\\\\\\\\\\\"}}, \\\\\\\\\\\\\\\"typeProperty\\\\\\\\\\\\\\\": 2}, {\\\\\\\\\\\\\\\"column\\\\\\\\\\\\\\\": {\\\\\\\\\\\\\\\"type\\\\\\\\\\\\\\\": 2, \\\\\\\\\\\\\\\"details\\\\\\\\\\\\\\\": {\\\\\\\\\\\\\\\"selectedColumn\\\\\\\\\\\\\\\": \\\\\\\\\\\\\\\"SEX\\\\\\\\\\\\\\\"}}, \\\\\\\\\\\\\\\"typeProperty\\\\\\\\\\\\\\\": 2}, {\\\\\\\\\\\\\\\"column\\\\\\\\\\\\\\\": {\\\\\\\\\\\\\\\"type\\\\\\\\\\\\\\\": 2, \\\\\\\\\\\\\\\"details\\\\\\\\\\\\\\\": {\\\\\\\\\\\\\\\"selectedColumn\\\\\\\\\\\\\\\": \\\\\\\\\\\\\\\"AGE\\\\\\\\\\\\\\\"}}, \\\\\\\\\\\\\\\"typeProperty\\\\\\\\\\\\\\\": 2}, {\\\\\\\\\\\\\\\"column\\\\\\\\\\\\\\\": {\\\\\\\\\\\\\\\"type\\\\\\\\\\\\\\\": 2, \\\\\\\\\\\\\\\"details\\\\\\\\\\\\\\\": {\\\\\\\\\\\\\\\"selectedColumn\\\\\\\\\\\\\\\": \\\\\\\\\\\\\\\"PAY_0\\\\\\\\\\\\\\\"}}, \\\\\\\\\\\\\\\"typeProperty\\\\\\\\\\\\\\\": 2}, {\\\\\\\\\\\\\\\"column\\\\\\\\\\\\\\\": {\\\\\\\\\\\\\\\"type\\\\\\\\\\\\\\\": 2, \\\\\\\\\\\\\\\"details\\\\\\\\\\\\\\\": {\\\\\\\\\\\\\\\"selectedColumn\\\\\\\\\\\\\\\": \\\\\\\\\\\\\\\"PAY_2\\\\\\\\\\\\\\\"}}, \\\\\\\\\\\\\\\"typeProperty\\\\\\\\\\\\\\\": 2}, {\\\\\\\\\\\\\\\"column\\\\\\\\\\\\\\\": {\\\\\\\\\\\\\\\"type\\\\\\\\\\\\\\\": 2, \\\\\\\\\\\\\\\"details\\\\\\\\\\\\\\\": {\\\\\\\\\\\\\\\"selectedColumn\\\\\\\\\\\\\\\": \\\\\\\\\\\\\\\"PAY_3\\\\\\\\\\\\\\\"}}, \\\\\\\\\\\\\\\"typeProperty\\\\\\\\\\\\\\\": 2}, {\\\\\\\\\\\\\\\"column\\\\\\\\\\\\\\\": {\\\\\\\\\\\\\\\"type\\\\\\\\\\\\\\\": 2, \\\\\\\\\\\\\\\"details\\\\\\\\\\\\\\\": {\\\\\\\\\\\\\\\"selectedColumn\\\\\\\\\\\\\\\": \\\\\\\\\\\\\\\"PAY_4\\\\\\\\\\\\\\\"}}, \\\\\\\\\\\\\\\"typeProperty\\\\\\\\\\\\\\\": 2}, {\\\\\\\\\\\\\\\"column\\\\\\\\\\\\\\\": {\\\\\\\\\\\\\\\"type\\\\\\\\\\\\\\\": 2, \\\\\\\\\\\\\\\"details\\\\\\\\\\\\\\\": {\\\\\\\\\\\\\\\"selectedColumn\\\\\\\\\\\\\\\": \\\\\\\\\\\\\\\"PAY_5\\\\\\\\\\\\\\\"}}, \\\\\\\\\\\\\\\"typeProperty\\\\\\\\\\\\\\\": 2}, {\\\\\\\\\\\\\\\"column\\\\\\\\\\\\\\\": {\\\\\\\\\\\\\\\"type\\\\\\\\\\\\\\\": 2, \\\\\\\\\\\\\\\"details\\\\\\\\\\\\\\\": {\\\\\\\\\\\\\\\"selectedColumn\\\\\\\\\\\\\\\": \\\\\\\\\\\\\\\"PAY_6\\\\\\\\\\\\\\\"}}, \\\\\\\\\\\\\\\"typeProperty\\\\\\\\\\\\\\\": 2}, {\\\\\\\\\\\\\\\"column\\\\\\\\\\\\\\\": {\\\\\\\\\\\\\\\"type\\\\\\\\\\\\\\\": 2, \\\\\\\\\\\\\\\"details\\\\\\\\\\\\\\\": {\\\\\\\\\\\\\\\"selectedColumn\\\\\\\\\\\\\\\": \\\\\\\\\\\\\\\"BILL_AMT1\\\\\\\\\\\\\\\"}}, \\\\\\\\\\\\\\\"typeProperty\\\\\\\\\\\\\\\": 2}, {\\\\\\\\\\\\\\\"column\\\\\\\\\\\\\\\": {\\\\\\\\\\\\\\\"type\\\\\\\\\\\\\\\": 2, \\\\\\\\\\\\\\\"details\\\\\\\\\\\\\\\": {\\\\\\\\\\\\\\\"selectedColumn\\\\\\\\\\\\\\\": \\\\\\\\\\\\\\\"BILL_AMT2\\\\\\\\\\\\\\\"}}, \\\\\\\\\\\\\\\"typeProperty\\\\\\\\\\\\\\\": 2}, {\\\\\\\\\\\\\\\"column\\\\\\\\\\\\\\\": {\\\\\\\\\\\\\\\"type\\\\\\\\\\\\\\\": 2, \\\\\\\\\\\\\\\"details\\\\\\\\\\\\\\\": {\\\\\\\\\\\\\\\"selectedColumn\\\\\\\\\\\\\\\": \\\\\\\\\\\\\\\"BILL_AMT3\\\\\\\\\\\\\\\"}}, \\\\\\\\\\\\\\\"typeProperty\\\\\\\\\\\\\\\": 2}, {\\\\\\\\\\\\\\\"column\\\\\\\\\\\\\\\": {\\\\\\\\\\\\\\\"type\\\\\\\\\\\\\\\": 2, \\\\\\\\\\\\\\\"details\\\\\\\\\\\\\\\": {\\\\\\\\\\\\\\\"selectedColumn\\\\\\\\\\\\\\\": \\\\\\\\\\\\\\\"BILL_AMT4\\\\\\\\\\\\\\\"}}, \\\\\\\\\\\\\\\"typeProperty\\\\\\\\\\\\\\\": 2}, {\\\\\\\\\\\\\\\"column\\\\\\\\\\\\\\\": {\\\\\\\\\\\\\\\"type\\\\\\\\\\\\\\\": 2, \\\\\\\\\\\\\\\"details\\\\\\\\\\\\\\\": {\\\\\\\\\\\\\\\"selectedColumn\\\\\\\\\\\\\\\": \\\\\\\\\\\\\\\"BILL_AMT5\\\\\\\\\\\\\\\"}}, \\\\\\\\\\\\\\\"typeProperty\\\\\\\\\\\\\\\": 2}, {\\\\\\\\\\\\\\\"column\\\\\\\\\\\\\\\": {\\\\\\\\\\\\\\\"type\\\\\\\\\\\\\\\": 2, \\\\\\\\\\\\\\\"details\\\\\\\\\\\\\\\": {\\\\\\\\\\\\\\\"selectedColumn\\\\\\\\\\\\\\\": \\\\\\\\\\\\\\\"BILL_AMT6\\\\\\\\\\\\\\\"}}, \\\\\\\\\\\\\\\"typeProperty\\\\\\\\\\\\\\\": 2}, {\\\\\\\\\\\\\\\"column\\\\\\\\\\\\\\\": {\\\\\\\\\\\\\\\"type\\\\\\\\\\\\\\\": 2, \\\\\\\\\\\\\\\"details\\\\\\\\\\\\\\\": {\\\\\\\\\\\\\\\"selectedColumn\\\\\\\\\\\\\\\": \\\\\\\\\\\\\\\"PAY_AMT1\\\\\\\\\\\\\\\"}}, \\\\\\\\\\\\\\\"typeProperty\\\\\\\\\\\\\\\": 2}, {\\\\\\\\\\\\\\\"column\\\\\\\\\\\\\\\": {\\\\\\\\\\\\\\\"type\\\\\\\\\\\\\\\": 2, \\\\\\\\\\\\\\\"details\\\\\\\\\\\\\\\": {\\\\\\\\\\\\\\\"selectedColumn\\\\\\\\\\\\\\\": \\\\\\\\\\\\\\\"PAY_AMT2\\\\\\\\\\\\\\\"}}, \\\\\\\\\\\\\\\"typeProperty\\\\\\\\\\\\\\\": 2}, {\\\\\\\\\\\\\\\"column\\\\\\\\\\\\\\\": {\\\\\\\\\\\\\\\"type\\\\\\\\\\\\\\\": 2, \\\\\\\\\\\\\\\"details\\\\\\\\\\\\\\\": {\\\\\\\\\\\\\\\"selectedColumn\\\\\\\\\\\\\\\": \\\\\\\\\\\\\\\"PAY_AMT3\\\\\\\\\\\\\\\"}}, \\\\\\\\\\\\\\\"typeProperty\\\\\\\\\\\\\\\": 2}, {\\\\\\\\\\\\\\\"column\\\\\\\\\\\\\\\": {\\\\\\\\\\\\\\\"type\\\\\\\\\\\\\\\": 2, \\\\\\\\\\\\\\\"details\\\\\\\\\\\\\\\": {\\\\\\\\\\\\\\\"selectedColumn\\\\\\\\\\\\\\\": \\\\\\\\\\\\\\\"PAY_AMT4\\\\\\\\\\\\\\\"}}, \\\\\\\\\\\\\\\"typeProperty\\\\\\\\\\\\\\\": 2}, {\\\\\\\\\\\\\\\"column\\\\\\\\\\\\\\\": {\\\\\\\\\\\\\\\"type\\\\\\\\\\\\\\\": 2, \\\\\\\\\\\\\\\"details\\\\\\\\\\\\\\\": {\\\\\\\\\\\\\\\"selectedColumn\\\\\\\\\\\\\\\": \\\\\\\\\\\\\\\"PAY_AMT5\\\\\\\\\\\\\\\"}}, \\\\\\\\\\\\\\\"typeProperty\\\\\\\\\\\\\\\": 2}, {\\\\\\\\\\\\\\\"column\\\\\\\\\\\\\\\": {\\\\\\\\\\\\\\\"type\\\\\\\\\\\\\\\": 2, \\\\\\\\\\\\\\\"details\\\\\\\\\\\\\\\": {\\\\\\\\\\\\\\\"selectedColumn\\\\\\\\\\\\\\\": \\\\\\\\\\\\\\\"PAY_AMT6\\\\\\\\\\\\\\\"}}, \\\\\\\\\\\\\\\"typeProperty\\\\\\\\\\\\\\\": 2}, {\\\\\\\\\\\\\\\"column\\\\\\\\\\\\\\\": {\\\\\\\\\\\\\\\"type\\\\\\\\\\\\\\\": 2, \\\\\\\\\\\\\\\"details\\\\\\\\\\\\\\\": {\\\\\\\\\\\\\\\"selectedColumn\\\\\\\\\\\\\\\": \\\\\\\\\\\\\\\"Y\\\\\\\\\\\\\\\"}}, \\\\\\\\\\\\\\\"typeProperty\\\\\\\\\\\\\\\": 2}, {\\\\\\\\\\\\\\\"column\\\\\\\\\\\\\\\": {\\\\\\\\\\\\\\\"type\\\\\\\\\\\\\\\": 2, \\\\\\\\\\\\\\\"details\\\\\\\\\\\\\\\": {\\\\\\\\\\\\\\\"selectedColumn\\\\\\\\\\\\\\\": \\\\\\\\\\\\\\\"edu_0\\\\\\\\\\\\\\\"}}, \\\\\\\\\\\\\\\"typeProperty\\\\\\\\\\\\\\\": 2}, {\\\\\\\\\\\\\\\"column\\\\\\\\\\\\\\\": {\\\\\\\\\\\\\\\"type\\\\\\\\\\\\\\\": 2, \\\\\\\\\\\\\\\"details\\\\\\\\\\\\\\\": {\\\\\\\\\\\\\\\"selectedColumn\\\\\\\\\\\\\\\": \\\\\\\\\\\\\\\"edu_1\\\\\\\\\\\\\\\"}}, \\\\\\\\\\\\\\\"typeProperty\\\\\\\\\\\\\\\": 2}, {\\\\\\\\\\\\\\\"column\\\\\\\\\\\\\\\": {\\\\\\\\\\\\\\\"type\\\\\\\\\\\\\\\": 2, \\\\\\\\\\\\\\\"details\\\\\\\\\\\\\\\": {\\\\\\\\\\\\\\\"selectedColumn\\\\\\\\\\\\\\\": \\\\\\\\\\\\\\\"edu_2\\\\\\\\\\\\\\\"}}, \\\\\\\\\\\\\\\"typeProperty\\\\\\\\\\\\\\\": 2}, {\\\\\\\\\\\\\\\"column\\\\\\\\\\\\\\\": {\\\\\\\\\\\\\\\"type\\\\\\\\\\\\\\\": 2, \\\\\\\\\\\\\\\"details\\\\\\\\\\\\\\\": {\\\\\\\\\\\\\\\"selectedColumn\\\\\\\\\\\\\\\": \\\\\\\\\\\\\\\"edu_3\\\\\\\\\\\\\\\"}}, \\\\\\\\\\\\\\\"typeProperty\\\\\\\\\\\\\\\": 2}, {\\\\\\\\\\\\\\\"column\\\\\\\\\\\\\\\": {\\\\\\\\\\\\\\\"type\\\\\\\\\\\\\\\": 2, \\\\\\\\\\\\\\\"details\\\\\\\\\\\\\\\": {\\\\\\\\\\\\\\\"selectedColumn\\\\\\\\\\\\\\\": \\\\\\\\\\\\\\\"edu_4\\\\\\\\\\\\\\\"}}, \\\\\\\\\\\\\\\"typeProperty\\\\\\\\\\\\\\\": 2}, {\\\\\\\\\\\\\\\"column\\\\\\\\\\\\\\\": {\\\\\\\\\\\\\\\"type\\\\\\\\\\\\\\\": 2, \\\\\\\\\\\\\\\"details\\\\\\\\\\\\\\\": {\\\\\\\\\\\\\\\"selectedColumn\\\\\\\\\\\\\\\": \\\\\\\\\\\\\\\"edu_5\\\\\\\\\\\\\\\"}}, \\\\\\\\\\\\\\\"typeProperty\\\\\\\\\\\\\\\": 2}, {\\\\\\\\\\\\\\\"column\\\\\\\\\\\\\\\": {\\\\\\\\\\\\\\\"type\\\\\\\\\\\\\\\": 2, \\\\\\\\\\\\\\\"details\\\\\\\\\\\\\\\": {\\\\\\\\\\\\\\\"selectedColumn\\\\\\\\\\\\\\\": \\\\\\\\\\\\\\\"edu_6\\\\\\\\\\\\\\\"}}, \\\\\\\\\\\\\\\"typeProperty\\\\\\\\\\\\\\\": 2}, {\\\\\\\\\\\\\\\"column\\\\\\\\\\\\\\\": {\\\\\\\\\\\\\\\"type\\\\\\\\\\\\\\\": 2, \\\\\\\\\\\\\\\"details\\\\\\\\\\\\\\\": {\\\\\\\\\\\\\\\"selectedColumn\\\\\\\\\\\\\\\": \\\\\\\\\\\\\\\"marriage_0\\\\\\\\\\\\\\\"}}, \\\\\\\\\\\\\\\"typeProperty\\\\\\\\\\\\\\\": 2}, {\\\\\\\\\\\\\\\"column\\\\\\\\\\\\\\\": {\\\\\\\\\\\\\\\"type\\\\\\\\\\\\\\\": 2, \\\\\\\\\\\\\\\"details\\\\\\\\\\\\\\\": {\\\\\\\\\\\\\\\"selectedColumn\\\\\\\\\\\\\\\": \\\\\\\\\\\\\\\"marriage_1\\\\\\\\\\\\\\\"}}, \\\\\\\\\\\\\\\"typeProperty\\\\\\\\\\\\\\\": 2}, {\\\\\\\\\\\\\\\"column\\\\\\\\\\\\\\\": {\\\\\\\\\\\\\\\"type\\\\\\\\\\\\\\\": 2, \\\\\\\\\\\\\\\"details\\\\\\\\\\\\\\\": {\\\\\\\\\\\\\\\"selectedColumn\\\\\\\\\\\\\\\": \\\\\\\\\\\\\\\"marriage_2\\\\\\\\\\\\\\\"}}, \\\\\\\\\\\\\\\"typeProperty\\\\\\\\\\\\\\\": 2}, {\\\\\\\\\\\\\\\"column\\\\\\\\\\\\\\\": {\\\\\\\\\\\\\\\"type\\\\\\\\\\\\\\\": 2, \\\\\\\\\\\\\\\"details\\\\\\\\\\\\\\\": {\\\\\\\\\\\\\\\"selectedColumn\\\\\\\\\\\\\\\": \\\\\\\\\\\\\\\"marriage_3\\\\\\\\\\\\\\\"}}, \\\\\\\\\\\\\\\"typeProperty\\\\\\\\\\\\\\\": 2}]}, \\\\\\\\\\\\\\\"localData\\\\\\\\\\\\\\\": {}, \\\\\\\\\\\\\\\"isEnabled\\\\\\\\\\\\\\\": true, \\\\\\\\\\\\\\\"name\\\\\\\\\\\\\\\": null, \\\\\\\\\\\\\\\"annotation\\\\\\\\\\\\\\\": null}], \\\\\\\\\\\\\\\"inspectors\\\\\\\\\\\\\\\": [], \\\\\\\\\\\\\\\"meta\\\\\\\\\\\\\\\": {\\\\\\\\\\\\\\\"savedDatasetId\\\\\\\\\\\\\\\": \\\\\\\\\\\\\\\"60ca1432-ebe2-492f-9f6a-19abd7248536\\\\\\\\\\\\\\\", \\\\\\\\\\\\\\\"datasetType\\\\\\\\\\\\\\\": \\\\\\\\\\\\\\\"tabular\\\\\\\\\\\\\\\", \\\\\\\\\\\\\\\"subscriptionId\\\\\\\\\\\\\\\": \\\\\\\\\\\\\\\"f5878af0-ca26-411c-9906-acf91f5420e2\\\\\\\\\\\\\\\", \\\\\\\\\\\\\\\"workspaceId\\\\\\\\\\\\\\\": \\\\\\\\\\\\\\\"6ea30628-b18e-4797-b69c-4dafbbb4a8b7\\\\\\\\\\\\\\\", \\\\\\\\\\\\\\\"workspaceLocation\\\\\\\\\\\\\\\": \\\\\\\\\\\\\\\"westeurope\\\\\\\\\\\\\\\"}}\\\\\\\", \\\\\\\"activities\\\\\\\": 0}\", \"EnableSubsampling\": null, \"runTemplate\": \"AutoML\", \"azureml.runsource\": \"automl\", \"display_task_type\": \"classification\", \"dependencies_versions\": \"{\\\"azureml-widgets\\\": \\\"1.20.0\\\", \\\"azureml-train\\\": \\\"1.20.0\\\", \\\"azureml-train-restclients-hyperdrive\\\": \\\"1.20.0\\\", \\\"azureml-train-core\\\": \\\"1.20.0\\\", \\\"azureml-train-automl\\\": \\\"1.20.0\\\", \\\"azureml-train-automl-runtime\\\": \\\"1.20.0\\\", \\\"azureml-train-automl-client\\\": \\\"1.20.0\\\", \\\"azureml-tensorboard\\\": \\\"1.20.0\\\", \\\"azureml-telemetry\\\": \\\"1.20.0\\\", \\\"azureml-sdk\\\": \\\"1.20.0\\\", \\\"azureml-samples\\\": \\\"0+unknown\\\", \\\"azureml-pipeline\\\": \\\"1.20.0\\\", \\\"azureml-pipeline-steps\\\": \\\"1.20.0\\\", \\\"azureml-pipeline-core\\\": \\\"1.20.0\\\", \\\"azureml-opendatasets\\\": \\\"1.20.0\\\", \\\"azureml-model-management-sdk\\\": \\\"1.0.1b6.post1\\\", \\\"azureml-mlflow\\\": \\\"1.20.0.post1\\\", \\\"azureml-interpret\\\": \\\"1.20.0\\\", \\\"azureml-explain-model\\\": \\\"1.20.0\\\", \\\"azureml-defaults\\\": \\\"1.20.0\\\", \\\"azureml-dataset-runtime\\\": \\\"1.20.0\\\", \\\"azureml-dataprep\\\": \\\"2.7.3\\\", \\\"azureml-dataprep-rslex\\\": \\\"1.5.0\\\", \\\"azureml-dataprep-native\\\": \\\"27.0.0\\\", \\\"azureml-datadrift\\\": \\\"1.20.0\\\", \\\"azureml-core\\\": \\\"1.20.0\\\", \\\"azureml-contrib-services\\\": \\\"1.20.0\\\", \\\"azureml-contrib-server\\\": \\\"1.20.0\\\", \\\"azureml-contrib-reinforcementlearning\\\": \\\"1.20.0\\\", \\\"azureml-contrib-pipeline-steps\\\": \\\"1.20.0\\\", \\\"azureml-contrib-notebook\\\": \\\"1.20.0\\\", \\\"azureml-contrib-interpret\\\": \\\"1.20.0\\\", \\\"azureml-contrib-gbdt\\\": \\\"1.20.0\\\", \\\"azureml-contrib-fairness\\\": \\\"1.20.0\\\", \\\"azureml-contrib-dataset\\\": \\\"1.20.0\\\", \\\"azureml-cli-common\\\": \\\"1.20.0\\\", \\\"azureml-automl-runtime\\\": \\\"1.20.0\\\", \\\"azureml-automl-core\\\": \\\"1.20.0\\\", \\\"azureml-accel-models\\\": \\\"1.20.0\\\"}\", \"_aml_system_scenario_identification\": \"Remote.Parent\", \"ClientType\": \"SDK\", \"environment_cpu_name\": \"AzureML-AutoML\", \"environment_cpu_label\": \"prod\", \"environment_gpu_name\": \"AzureML-AutoML-GPU\", \"environment_gpu_label\": \"prod\", \"root_attribution\": \"automl\", \"attribution\": \"AutoML\", \"Orchestrator\": \"AutoML\", \"CancelUri\": \"https://westeurope.experiments.azureml.net/jasmine/v1.0/subscriptions/f5878af0-ca26-411c-9906-acf91f5420e2/resourceGroups/grouprisk/providers/Microsoft.MachineLearningServices/workspaces/msc-lrn-dev/experimentids/bcad880d-ca38-465e-ac5b-4a0802278268/cancel/AutoML_ccde6c0d-a9c9-4a73-9f7a-57fb995e324c\", \"azureml.git.repository_uri\": \"https://github.com/udacity/nd00333-capstone.git\", \"mlflow.source.git.repoURL\": \"https://github.com/udacity/nd00333-capstone.git\", \"azureml.git.branch\": \"master\", \"mlflow.source.git.branch\": \"master\", \"azureml.git.commit\": \"bb8bb394f2d1a40e23f582b5c1b308628e329b33\", \"mlflow.source.git.commit\": \"bb8bb394f2d1a40e23f582b5c1b308628e329b33\", \"azureml.git.dirty\": \"True\", \"ClientSdkVersion\": \"1.21.0\", \"snapshotId\": \"00000000-0000-0000-0000-000000000000\", \"SetupRunId\": \"AutoML_ccde6c0d-a9c9-4a73-9f7a-57fb995e324c_setup\", \"SetupRunContainerId\": \"dcid.AutoML_ccde6c0d-a9c9-4a73-9f7a-57fb995e324c_setup\", \"FeaturizationRunJsonPath\": \"featurizer_container.json\", \"FeaturizationRunId\": \"AutoML_ccde6c0d-a9c9-4a73-9f7a-57fb995e324c_featurize\", \"ProblemInfoJsonString\": \"{\\\"dataset_num_categorical\\\": 0, \\\"is_sparse\\\": true, \\\"subsampling\\\": false, \\\"dataset_classes\\\": 2, \\\"dataset_features\\\": 90, \\\"dataset_samples\\\": 30000, \\\"single_frequency_class_detected\\\": false}\", \"ModelExplainRunId\": \"AutoML_ccde6c0d-a9c9-4a73-9f7a-57fb995e324c_ModelExplain\"}, \"tags\": {\"model_explain_run\": \"best_run\", \"_aml_system_azureml.automlComponent\": \"AutoML\", \"pipeline_id\": \"\", \"score\": \"\", \"predicted_cost\": \"\", \"fit_time\": \"\", \"training_percent\": \"\", \"iteration\": \"\", \"run_preprocessor\": \"\", \"run_algorithm\": \"\", \"automl_best_child_run_id\": \"AutoML_ccde6c0d-a9c9-4a73-9f7a-57fb995e324c_12\"}, \"end_time_utc\": \"2021-02-13T23:11:41.836484Z\", \"status\": \"Completed\", \"log_files\": {}, \"log_groups\": [], \"run_duration\": \"0:32:56\"}, \"child_runs\": [{\"run_id\": \"AutoML_ccde6c0d-a9c9-4a73-9f7a-57fb995e324c_0\", \"run_number\": 5, \"metric\": null, \"status\": \"Completed\", \"run_type\": \"azureml.scriptrun\", \"training_percent\": \"100\", \"start_time\": \"2021-02-13T22:48:08.919113Z\", \"end_time\": \"2021-02-13T22:49:15.40572Z\", \"created_time\": \"2021-02-13T22:47:57.856162Z\", \"created_time_dt\": \"2021-02-13T22:47:57.856162Z\", \"duration\": \"0:01:17\", \"iteration\": \"0\", \"goal\": \"accuracy_max\", \"run_name\": \"MaxAbsScaler, LightGBM\", \"run_properties\": \"copy=True\", \"primary_metric\": 0.82006667, \"best_metric\": 0.82006667}, {\"run_id\": \"AutoML_ccde6c0d-a9c9-4a73-9f7a-57fb995e324c_1\", \"run_number\": 6, \"metric\": null, \"status\": \"Completed\", \"run_type\": \"azureml.scriptrun\", \"training_percent\": \"100\", \"start_time\": \"2021-02-13T22:49:27.987405Z\", \"end_time\": \"2021-02-13T22:50:36.843957Z\", \"created_time\": \"2021-02-13T22:49:16.445049Z\", \"created_time_dt\": \"2021-02-13T22:49:16.445049Z\", \"duration\": \"0:01:20\", \"iteration\": \"1\", \"goal\": \"accuracy_max\", \"run_name\": \"MaxAbsScaler, XGBoostClassifier\", \"run_properties\": \"copy=True\", \"primary_metric\": 0.82086667, \"best_metric\": 0.82086667}, {\"run_id\": \"AutoML_ccde6c0d-a9c9-4a73-9f7a-57fb995e324c_2\", \"run_number\": 7, \"metric\": null, \"status\": \"Completed\", \"run_type\": \"azureml.scriptrun\", \"training_percent\": \"100\", \"start_time\": \"2021-02-13T22:50:49.385993Z\", \"end_time\": \"2021-02-13T22:51:45.682196Z\", \"created_time\": \"2021-02-13T22:50:38.701106Z\", \"created_time_dt\": \"2021-02-13T22:50:38.701106Z\", \"duration\": \"0:01:06\", \"iteration\": \"2\", \"goal\": \"accuracy_max\", \"run_name\": \"MaxAbsScaler, RandomForest\", \"run_properties\": \"copy=True\", \"primary_metric\": 0.81, \"best_metric\": 0.82086667}, {\"run_id\": \"AutoML_ccde6c0d-a9c9-4a73-9f7a-57fb995e324c_3\", \"run_number\": 8, \"metric\": null, \"status\": \"Completed\", \"run_type\": \"azureml.scriptrun\", \"training_percent\": \"100\", \"start_time\": \"2021-02-13T22:51:58.913527Z\", \"end_time\": \"2021-02-13T22:52:56.040615Z\", \"created_time\": \"2021-02-13T22:51:47.709334Z\", \"created_time_dt\": \"2021-02-13T22:51:47.709334Z\", \"duration\": \"0:01:08\", \"iteration\": \"3\", \"goal\": \"accuracy_max\", \"run_name\": \"MaxAbsScaler, RandomForest\", \"run_properties\": \"copy=True\", \"primary_metric\": 0.7863, \"best_metric\": 0.82086667}, {\"run_id\": \"AutoML_ccde6c0d-a9c9-4a73-9f7a-57fb995e324c_4\", \"run_number\": 9, \"metric\": null, \"status\": \"Completed\", \"run_type\": \"azureml.scriptrun\", \"training_percent\": \"100\", \"start_time\": \"2021-02-13T22:53:10.614115Z\", \"end_time\": \"2021-02-13T22:54:07.179694Z\", \"created_time\": \"2021-02-13T22:52:59.007028Z\", \"created_time_dt\": \"2021-02-13T22:52:59.007028Z\", \"duration\": \"0:01:08\", \"iteration\": \"4\", \"goal\": \"accuracy_max\", \"run_name\": \"MaxAbsScaler, RandomForest\", \"run_properties\": \"copy=True\", \"primary_metric\": 0.75303333, \"best_metric\": 0.82086667}, {\"run_id\": \"AutoML_ccde6c0d-a9c9-4a73-9f7a-57fb995e324c_5\", \"run_number\": 10, \"metric\": null, \"status\": \"Completed\", \"run_type\": \"azureml.scriptrun\", \"training_percent\": \"100\", \"start_time\": \"2021-02-13T22:54:22.617707Z\", \"end_time\": \"2021-02-13T22:55:16.795065Z\", \"created_time\": \"2021-02-13T22:54:09.819461Z\", \"created_time_dt\": \"2021-02-13T22:54:09.819461Z\", \"duration\": \"0:01:06\", \"iteration\": \"5\", \"goal\": \"accuracy_max\", \"run_name\": \"MaxAbsScaler, RandomForest\", \"run_properties\": \"copy=True\", \"primary_metric\": 0.71893333, \"best_metric\": 0.82086667}, {\"run_id\": \"AutoML_ccde6c0d-a9c9-4a73-9f7a-57fb995e324c_6\", \"run_number\": 11, \"metric\": null, \"status\": \"Completed\", \"run_type\": \"azureml.scriptrun\", \"training_percent\": \"100\", \"start_time\": \"2021-02-13T22:55:30.451297Z\", \"end_time\": \"2021-02-13T22:56:50.144903Z\", \"created_time\": \"2021-02-13T22:55:18.573916Z\", \"created_time_dt\": \"2021-02-13T22:55:18.573916Z\", \"duration\": \"0:01:31\", \"iteration\": \"6\", \"goal\": \"accuracy_max\", \"run_name\": \"SparseNormalizer, XGBoostClassifier\", \"run_properties\": \"<azureml.automl.runtime.shared.model_wrappers.SparseNormalizer object at 0x7fec2ddcc278\", \"primary_metric\": 0.81993333, \"best_metric\": 0.82086667}, {\"run_id\": \"AutoML_ccde6c0d-a9c9-4a73-9f7a-57fb995e324c_7\", \"run_number\": 12, \"metric\": null, \"status\": \"Completed\", \"run_type\": \"azureml.scriptrun\", \"training_percent\": \"100\", \"start_time\": \"2021-02-13T22:57:03.652194Z\", \"end_time\": \"2021-02-13T22:58:58.799652Z\", \"created_time\": \"2021-02-13T22:56:52.395612Z\", \"created_time_dt\": \"2021-02-13T22:56:52.395612Z\", \"duration\": \"0:02:06\", \"iteration\": \"7\", \"goal\": \"accuracy_max\", \"run_name\": \"MaxAbsScaler, RandomForest\", \"run_properties\": \"copy=True\", \"primary_metric\": 0.78896667, \"best_metric\": 0.82086667}, {\"run_id\": \"AutoML_ccde6c0d-a9c9-4a73-9f7a-57fb995e324c_8\", \"run_number\": 13, \"metric\": null, \"status\": \"Completed\", \"run_type\": \"azureml.scriptrun\", \"training_percent\": \"100\", \"start_time\": \"2021-02-13T22:59:12.408693Z\", \"end_time\": \"2021-02-13T23:00:11.929517Z\", \"created_time\": \"2021-02-13T22:59:00.8379Z\", \"created_time_dt\": \"2021-02-13T22:59:00.8379Z\", \"duration\": \"0:01:11\", \"iteration\": \"8\", \"goal\": \"accuracy_max\", \"run_name\": \"SparseNormalizer, LightGBM\", \"run_properties\": \"<azureml.automl.runtime.shared.model_wrappers.SparseNormalizer object at 0x7f336ee60eb8\", \"primary_metric\": 0.81253333, \"best_metric\": 0.82086667}, {\"run_id\": \"AutoML_ccde6c0d-a9c9-4a73-9f7a-57fb995e324c_9\", \"run_number\": 14, \"metric\": null, \"status\": \"Completed\", \"run_type\": \"azureml.scriptrun\", \"training_percent\": \"100\", \"start_time\": \"2021-02-13T23:00:27.754412Z\", \"end_time\": \"2021-02-13T23:01:23.877963Z\", \"created_time\": \"2021-02-13T23:00:15.424793Z\", \"created_time_dt\": \"2021-02-13T23:00:15.424793Z\", \"duration\": \"0:01:08\", \"iteration\": \"9\", \"goal\": \"accuracy_max\", \"run_name\": \"MaxAbsScaler, LogisticRegression\", \"run_properties\": \"copy=True\", \"primary_metric\": 0.82046667, \"best_metric\": 0.82086667}, {\"run_id\": \"AutoML_ccde6c0d-a9c9-4a73-9f7a-57fb995e324c_10\", \"run_number\": 15, \"metric\": null, \"status\": \"Completed\", \"run_type\": \"azureml.scriptrun\", \"training_percent\": \"100\", \"start_time\": \"2021-02-13T23:01:35.982933Z\", \"end_time\": \"2021-02-13T23:05:03.529624Z\", \"created_time\": \"2021-02-13T23:01:25.813734Z\", \"created_time_dt\": \"2021-02-13T23:01:25.813734Z\", \"duration\": \"0:03:37\", \"iteration\": \"10\", \"goal\": \"accuracy_max\", \"run_name\": \"MaxAbsScaler, RandomForest\", \"run_properties\": \"copy=True\", \"primary_metric\": 0.81283333, \"best_metric\": 0.82086667}, {\"run_id\": \"AutoML_ccde6c0d-a9c9-4a73-9f7a-57fb995e324c_11\", \"run_number\": 16, \"metric\": null, \"status\": \"Completed\", \"run_type\": \"azureml.scriptrun\", \"training_percent\": \"100\", \"start_time\": \"2021-02-13T23:05:18.833501Z\", \"end_time\": \"2021-02-13T23:08:04.009964Z\", \"created_time\": \"2021-02-13T23:05:06.080676Z\", \"created_time_dt\": \"2021-02-13T23:05:06.080676Z\", \"duration\": \"0:02:57\", \"iteration\": \"11\", \"goal\": \"accuracy_max\", \"run_name\": \"SparseNormalizer, XGBoostClassifier\", \"run_properties\": \"<azureml.automl.runtime.shared.model_wrappers.SparseNormalizer object at 0x7f4659218940\", \"primary_metric\": 0.81873333, \"best_metric\": 0.82086667}, {\"run_id\": \"AutoML_ccde6c0d-a9c9-4a73-9f7a-57fb995e324c_12\", \"run_number\": 17, \"metric\": null, \"status\": \"Completed\", \"run_type\": \"azureml.scriptrun\", \"training_percent\": \"100\", \"start_time\": \"2021-02-13T23:08:16.581292Z\", \"end_time\": \"2021-02-13T23:09:49.715233Z\", \"created_time\": \"2021-02-13T23:08:05.341603Z\", \"created_time_dt\": \"2021-02-13T23:08:05.341603Z\", \"duration\": \"0:01:44\", \"iteration\": \"12\", \"goal\": \"accuracy_max\", \"run_name\": \"VotingEnsemble\", \"run_properties\": \"classification_labels=None,\\n                              estimators=[('1',\\n                                           Pipeline(memory=None,\\n                                                    steps=[('maxabsscaler',\\n                                                            MaxAbsScaler(copy=True\", \"primary_metric\": 0.82303333, \"best_metric\": 0.82303333}, {\"run_id\": \"AutoML_ccde6c0d-a9c9-4a73-9f7a-57fb995e324c_13\", \"run_number\": 18, \"metric\": null, \"status\": \"Completed\", \"run_type\": \"azureml.scriptrun\", \"training_percent\": \"100\", \"start_time\": \"2021-02-13T23:10:01.790809Z\", \"end_time\": \"2021-02-13T23:11:34.069878Z\", \"created_time\": \"2021-02-13T23:09:51.149476Z\", \"created_time_dt\": \"2021-02-13T23:09:51.149476Z\", \"duration\": \"0:01:42\", \"iteration\": \"13\", \"goal\": \"accuracy_max\", \"run_name\": \"StackEnsemble\", \"run_properties\": \"base_learners=[('1',\\n                                        Pipeline(memory=None,\\n                                                 steps=[('maxabsscaler',\\n                                                         MaxAbsScaler(copy=True\", \"primary_metric\": 0.8209, \"best_metric\": 0.82303333}], \"children_metrics\": {\"categories\": [0], \"series\": {\"AUC_micro\": [{\"categories\": [\"0\", \"1\", \"2\", \"3\", \"4\", \"5\", \"6\", \"7\", \"8\", \"9\", \"10\", \"11\", \"12\", \"13\"], \"mode\": \"markers\", \"name\": \"AUC_micro\", \"stepped\": false, \"type\": \"scatter\", \"data\": [0.8824824711111111, 0.88318644, 0.8752423022222222, 0.8678860666666667, 0.8028082000000001, 0.7775658622222223, 0.8811147733333332, 0.8707086133333333, 0.8771856577777777, 0.8765691333333333, 0.8749810800000001, 0.8793464222222223, 0.884051288888889, 0.8845966488888889]}, {\"categories\": [\"0\", \"1\", \"2\", \"3\", \"4\", \"5\", \"6\", \"7\", \"8\", \"9\", \"10\", \"11\", \"12\", \"13\"], \"mode\": \"lines\", \"name\": \"AUC_micro_max\", \"stepped\": true, \"type\": \"scatter\", \"data\": [0.8824824711111111, 0.88318644, 0.88318644, 0.88318644, 0.88318644, 0.88318644, 0.88318644, 0.88318644, 0.88318644, 0.88318644, 0.88318644, 0.88318644, 0.884051288888889, 0.8845966488888889]}], \"balanced_accuracy\": [{\"categories\": [\"0\", \"1\", \"2\", \"3\", \"4\", \"5\", \"6\", \"7\", \"8\", \"9\", \"10\", \"11\", \"12\", \"13\"], \"mode\": \"markers\", \"name\": \"balanced_accuracy\", \"stepped\": false, \"type\": \"scatter\", \"data\": [0.6580113781365876, 0.6528641822084169, 0.6122197383137687, 0.5261356276514145, 0.7118452543697446, 0.6957054791779438, 0.65682260664951, 0.5309132664390616, 0.6330036275691578, 0.6539270451649326, 0.6213505662834633, 0.6592636176951391, 0.6680837311058706, 0.6590086526435954]}, {\"categories\": [\"0\", \"1\", \"2\", \"3\", \"4\", \"5\", \"6\", \"7\", \"8\", \"9\", \"10\", \"11\", \"12\", \"13\"], \"mode\": \"lines\", \"name\": \"balanced_accuracy_max\", \"stepped\": true, \"type\": \"scatter\", \"data\": [0.6580113781365876, 0.6580113781365876, 0.6580113781365876, 0.6580113781365876, 0.7118452543697446, 0.7118452543697446, 0.7118452543697446, 0.7118452543697446, 0.7118452543697446, 0.7118452543697446, 0.7118452543697446, 0.7118452543697446, 0.7118452543697446, 0.7118452543697446]}], \"log_loss\": [{\"categories\": [\"0\", \"1\", \"2\", \"3\", \"4\", \"5\", \"6\", \"7\", \"8\", \"9\", \"10\", \"11\", \"12\", \"13\"], \"mode\": \"markers\", \"name\": \"log_loss\", \"stepped\": false, \"type\": \"scatter\", \"data\": [0.4293178520861064, 0.42782751248263345, 0.44394594524768405, 0.4636142233297103, 0.5803934371753695, 0.6042993060749042, 0.4330289509752825, 0.46020809580830513, 0.43944304395436323, 0.43708018887738737, 0.44458137369286777, 0.43630573307687565, 0.4297777886469005, 0.4277917998142184]}, {\"categories\": [\"0\", \"1\", \"2\", \"3\", \"4\", \"5\", \"6\", \"7\", \"8\", \"9\", \"10\", \"11\", \"12\", \"13\"], \"mode\": \"lines\", \"name\": \"log_loss_min\", \"stepped\": true, \"type\": \"scatter\", \"data\": [0.4293178520861064, 0.42782751248263345, 0.42782751248263345, 0.42782751248263345, 0.42782751248263345, 0.42782751248263345, 0.42782751248263345, 0.42782751248263345, 0.42782751248263345, 0.42782751248263345, 0.42782751248263345, 0.42782751248263345, 0.42782751248263345, 0.4277917998142184]}], \"recall_score_macro\": [{\"categories\": [\"0\", \"1\", \"2\", \"3\", \"4\", \"5\", \"6\", \"7\", \"8\", \"9\", \"10\", \"11\", \"12\", \"13\"], \"mode\": \"markers\", \"name\": \"recall_score_macro\", \"stepped\": false, \"type\": \"scatter\", \"data\": [0.6580113781365876, 0.6528641822084169, 0.6122197383137687, 0.5261356276514145, 0.7118452543697446, 0.6957054791779438, 0.65682260664951, 0.5309132664390616, 0.6330036275691578, 0.6539270451649326, 0.6213505662834633, 0.6592636176951391, 0.6680837311058706, 0.6590086526435954]}, {\"categories\": [\"0\", \"1\", \"2\", \"3\", \"4\", \"5\", \"6\", \"7\", \"8\", \"9\", \"10\", \"11\", \"12\", \"13\"], \"mode\": \"lines\", \"name\": \"recall_score_macro_max\", \"stepped\": true, \"type\": \"scatter\", \"data\": [0.6580113781365876, 0.6580113781365876, 0.6580113781365876, 0.6580113781365876, 0.7118452543697446, 0.7118452543697446, 0.7118452543697446, 0.7118452543697446, 0.7118452543697446, 0.7118452543697446, 0.7118452543697446, 0.7118452543697446, 0.7118452543697446, 0.7118452543697446]}], \"AUC_macro\": [{\"categories\": [\"0\", \"1\", \"2\", \"3\", \"4\", \"5\", \"6\", \"7\", \"8\", \"9\", \"10\", \"11\", \"12\", \"13\"], \"mode\": \"markers\", \"name\": \"AUC_macro\", \"stepped\": false, \"type\": \"scatter\", \"data\": [0.7804842313088037, 0.7820305321003336, 0.7679880512634237, 0.7575878885948815, 0.7726910621275058, 0.7528622744063672, 0.7783473328338466, 0.7654935115384949, 0.7703277536479938, 0.7666276631177372, 0.7652260396092966, 0.7742049085740791, 0.784648251770135, 0.7854661764289149]}, {\"categories\": [\"0\", \"1\", \"2\", \"3\", \"4\", \"5\", \"6\", \"7\", \"8\", \"9\", \"10\", \"11\", \"12\", \"13\"], \"mode\": \"lines\", \"name\": \"AUC_macro_max\", \"stepped\": true, \"type\": \"scatter\", \"data\": [0.7804842313088037, 0.7820305321003336, 0.7820305321003336, 0.7820305321003336, 0.7820305321003336, 0.7820305321003336, 0.7820305321003336, 0.7820305321003336, 0.7820305321003336, 0.7820305321003336, 0.7820305321003336, 0.7820305321003336, 0.784648251770135, 0.7854661764289149]}], \"precision_score_weighted\": [{\"categories\": [\"0\", \"1\", \"2\", \"3\", \"4\", \"5\", \"6\", \"7\", \"8\", \"9\", \"10\", \"11\", \"12\", \"13\"], \"mode\": \"markers\", \"name\": \"precision_score_weighted\", \"stepped\": false, \"type\": \"scatter\", \"data\": [0.8032098902136107, 0.8045929752793336, 0.7919766549885086, 0.7755813363617106, 0.79018550128105, 0.7792754285505, 0.803127755443222, 0.7835762056050508, 0.7931825211414487, 0.8038326388912916, 0.7952752133808428, 0.8014989537282272, 0.8071985884018628, 0.8044726180905328]}, {\"categories\": [\"0\", \"1\", \"2\", \"3\", \"4\", \"5\", \"6\", \"7\", \"8\", \"9\", \"10\", \"11\", \"12\", \"13\"], \"mode\": \"lines\", \"name\": \"precision_score_weighted_max\", \"stepped\": true, \"type\": \"scatter\", \"data\": [0.8032098902136107, 0.8045929752793336, 0.8045929752793336, 0.8045929752793336, 0.8045929752793336, 0.8045929752793336, 0.8045929752793336, 0.8045929752793336, 0.8045929752793336, 0.8045929752793336, 0.8045929752793336, 0.8045929752793336, 0.8071985884018628, 0.8071985884018628]}], \"f1_score_macro\": [{\"categories\": [\"0\", \"1\", \"2\", \"3\", \"4\", \"5\", \"6\", \"7\", \"8\", \"9\", \"10\", \"11\", \"12\", \"13\"], \"mode\": \"markers\", \"name\": \"f1_score_macro\", \"stepped\": false, \"type\": \"scatter\", \"data\": [0.6829367429920676, 0.6785217287751844, 0.6311584166923495, 0.4920886839506765, 0.6826498996182842, 0.6555645893221755, 0.6817611043062111, 0.5021772610677044, 0.6556277213892885, 0.6793845387941714, 0.6427978447127092, 0.6834478728450935, 0.69318729816508, 0.6841954579790027]}, {\"categories\": [\"0\", \"1\", \"2\", \"3\", \"4\", \"5\", \"6\", \"7\", \"8\", \"9\", \"10\", \"11\", \"12\", \"13\"], \"mode\": \"lines\", \"name\": \"f1_score_macro_max\", \"stepped\": true, \"type\": \"scatter\", \"data\": [0.6829367429920676, 0.6829367429920676, 0.6829367429920676, 0.6829367429920676, 0.6829367429920676, 0.6829367429920676, 0.6829367429920676, 0.6829367429920676, 0.6829367429920676, 0.6829367429920676, 0.6829367429920676, 0.6834478728450935, 0.69318729816508, 0.69318729816508]}], \"AUC_weighted\": [{\"categories\": [\"0\", \"1\", \"2\", \"3\", \"4\", \"5\", \"6\", \"7\", \"8\", \"9\", \"10\", \"11\", \"12\", \"13\"], \"mode\": \"markers\", \"name\": \"AUC_weighted\", \"stepped\": false, \"type\": \"scatter\", \"data\": [0.7804842313088037, 0.7820305321449231, 0.7679880512634237, 0.7575878885948815, 0.772691062127506, 0.7528622744063672, 0.7783473221051218, 0.7654935115384949, 0.7703277536479938, 0.7666276631177372, 0.7652260396092966, 0.7742049228408883, 0.784648251770135, 0.7854661764289149]}, {\"categories\": [\"0\", \"1\", \"2\", \"3\", \"4\", \"5\", \"6\", \"7\", \"8\", \"9\", \"10\", \"11\", \"12\", \"13\"], \"mode\": \"lines\", \"name\": \"AUC_weighted_max\", \"stepped\": true, \"type\": \"scatter\", \"data\": [0.7804842313088037, 0.7820305321449231, 0.7820305321449231, 0.7820305321449231, 0.7820305321449231, 0.7820305321449231, 0.7820305321449231, 0.7820305321449231, 0.7820305321449231, 0.7820305321449231, 0.7820305321449231, 0.7820305321449231, 0.784648251770135, 0.7854661764289149]}], \"recall_score_weighted\": [{\"categories\": [\"0\", \"1\", \"2\", \"3\", \"4\", \"5\", \"6\", \"7\", \"8\", \"9\", \"10\", \"11\", \"12\", \"13\"], \"mode\": \"markers\", \"name\": \"recall_score_weighted\", \"stepped\": false, \"type\": \"scatter\", \"data\": [0.8200666666666667, 0.8208666666666666, 0.81, 0.7863, 0.7530333333333333, 0.7189333333333333, 0.8199333333333333, 0.7889666666666667, 0.8125333333333333, 0.8204666666666667, 0.8128333333333334, 0.8187333333333333, 0.8230333333333333, 0.8209]}, {\"categories\": [\"0\", \"1\", \"2\", \"3\", \"4\", \"5\", \"6\", \"7\", \"8\", \"9\", \"10\", \"11\", \"12\", \"13\"], \"mode\": \"lines\", \"name\": \"recall_score_weighted_max\", \"stepped\": true, \"type\": \"scatter\", \"data\": [0.8200666666666667, 0.8208666666666666, 0.8208666666666666, 0.8208666666666666, 0.8208666666666666, 0.8208666666666666, 0.8208666666666666, 0.8208666666666666, 0.8208666666666666, 0.8208666666666666, 0.8208666666666666, 0.8208666666666666, 0.8230333333333333, 0.8230333333333333]}], \"norm_macro_recall\": [{\"categories\": [\"0\", \"1\", \"2\", \"3\", \"4\", \"5\", \"6\", \"7\", \"8\", \"9\", \"10\", \"11\", \"12\", \"13\"], \"mode\": \"markers\", \"name\": \"norm_macro_recall\", \"stepped\": false, \"type\": \"scatter\", \"data\": [0.3160227562731752, 0.3057283644168339, 0.22443947662753744, 0.052271255302828945, 0.42369050873948916, 0.3914109583558876, 0.31364521329901984, 0.061826532878123286, 0.26600725513831575, 0.30785409032986516, 0.2427011325669265, 0.3185272353902782, 0.3361674622117411, 0.31801730528719097]}, {\"categories\": [\"0\", \"1\", \"2\", \"3\", \"4\", \"5\", \"6\", \"7\", \"8\", \"9\", \"10\", \"11\", \"12\", \"13\"], \"mode\": \"lines\", \"name\": \"norm_macro_recall_max\", \"stepped\": true, \"type\": \"scatter\", \"data\": [0.3160227562731752, 0.3160227562731752, 0.3160227562731752, 0.3160227562731752, 0.42369050873948916, 0.42369050873948916, 0.42369050873948916, 0.42369050873948916, 0.42369050873948916, 0.42369050873948916, 0.42369050873948916, 0.42369050873948916, 0.42369050873948916, 0.42369050873948916]}], \"average_precision_score_macro\": [{\"categories\": [\"0\", \"1\", \"2\", \"3\", \"4\", \"5\", \"6\", \"7\", \"8\", \"9\", \"10\", \"11\", \"12\", \"13\"], \"mode\": \"markers\", \"name\": \"average_precision_score_macro\", \"stepped\": false, \"type\": \"scatter\", \"data\": [0.7334405582747276, 0.7353565996863939, 0.7141042224404176, 0.7018901517111471, 0.719580005493355, 0.7008951170718467, 0.7320575504394589, 0.712454378386748, 0.7179829323506998, 0.7206253564190233, 0.7145299346303489, 0.7286944117902376, 0.7393882370846003, 0.7401355117716696]}, {\"categories\": [\"0\", \"1\", \"2\", \"3\", \"4\", \"5\", \"6\", \"7\", \"8\", \"9\", \"10\", \"11\", \"12\", \"13\"], \"mode\": \"lines\", \"name\": \"average_precision_score_macro_max\", \"stepped\": true, \"type\": \"scatter\", \"data\": [0.7334405582747276, 0.7353565996863939, 0.7353565996863939, 0.7353565996863939, 0.7353565996863939, 0.7353565996863939, 0.7353565996863939, 0.7353565996863939, 0.7353565996863939, 0.7353565996863939, 0.7353565996863939, 0.7353565996863939, 0.7393882370846003, 0.7401355117716696]}], \"f1_score_micro\": [{\"categories\": [\"0\", \"1\", \"2\", \"3\", \"4\", \"5\", \"6\", \"7\", \"8\", \"9\", \"10\", \"11\", \"12\", \"13\"], \"mode\": \"markers\", \"name\": \"f1_score_micro\", \"stepped\": false, \"type\": \"scatter\", \"data\": [0.8200666666666667, 0.8208666666666666, 0.81, 0.7863, 0.7530333333333333, 0.7189333333333334, 0.8199333333333333, 0.7889666666666666, 0.8125333333333333, 0.8204666666666666, 0.8128333333333334, 0.8187333333333333, 0.8230333333333333, 0.8209]}, {\"categories\": [\"0\", \"1\", \"2\", \"3\", \"4\", \"5\", \"6\", \"7\", \"8\", \"9\", \"10\", \"11\", \"12\", \"13\"], \"mode\": \"lines\", \"name\": \"f1_score_micro_max\", \"stepped\": true, \"type\": \"scatter\", \"data\": [0.8200666666666667, 0.8208666666666666, 0.8208666666666666, 0.8208666666666666, 0.8208666666666666, 0.8208666666666666, 0.8208666666666666, 0.8208666666666666, 0.8208666666666666, 0.8208666666666666, 0.8208666666666666, 0.8208666666666666, 0.8230333333333333, 0.8230333333333333]}], \"matthews_correlation\": [{\"categories\": [\"0\", \"1\", \"2\", \"3\", \"4\", \"5\", \"6\", \"7\", \"8\", \"9\", \"10\", \"11\", \"12\", \"13\"], \"mode\": \"markers\", \"name\": \"matthews_correlation\", \"stepped\": false, \"type\": \"scatter\", \"data\": [0.4019562272087188, 0.4002344012911766, 0.33813837587649576, 0.15131848974376388, 0.38105945091792726, 0.34185502854511934, 0.40078725490783307, 0.1833172918004744, 0.3621585506627163, 0.3998365227977083, 0.3538834301933409, 0.3996652443606912, 0.4172729399486569, 0.40503331366256046]}, {\"categories\": [\"0\", \"1\", \"2\", \"3\", \"4\", \"5\", \"6\", \"7\", \"8\", \"9\", \"10\", \"11\", \"12\", \"13\"], \"mode\": \"lines\", \"name\": \"matthews_correlation_max\", \"stepped\": true, \"type\": \"scatter\", \"data\": [0.4019562272087188, 0.4019562272087188, 0.4019562272087188, 0.4019562272087188, 0.4019562272087188, 0.4019562272087188, 0.4019562272087188, 0.4019562272087188, 0.4019562272087188, 0.4019562272087188, 0.4019562272087188, 0.4019562272087188, 0.4172729399486569, 0.4172729399486569]}], \"f1_score_weighted\": [{\"categories\": [\"0\", \"1\", \"2\", \"3\", \"4\", \"5\", \"6\", \"7\", \"8\", \"9\", \"10\", \"11\", \"12\", \"13\"], \"mode\": \"markers\", \"name\": \"f1_score_weighted\", \"stepped\": false, \"type\": \"scatter\", \"data\": [0.7992045110520214, 0.7977999526647817, 0.7744001902220476, 0.7074311715018738, 0.7659850145061335, 0.7378183140143886, 0.7986769526365836, 0.7127963788046414, 0.7852405562224694, 0.7979792194152375, 0.7802183661880578, 0.7988378454648052, 0.80447582797402, 0.8000434549190396]}, {\"categories\": [\"0\", \"1\", \"2\", \"3\", \"4\", \"5\", \"6\", \"7\", \"8\", \"9\", \"10\", \"11\", \"12\", \"13\"], \"mode\": \"lines\", \"name\": \"f1_score_weighted_max\", \"stepped\": true, \"type\": \"scatter\", \"data\": [0.7992045110520214, 0.7992045110520214, 0.7992045110520214, 0.7992045110520214, 0.7992045110520214, 0.7992045110520214, 0.7992045110520214, 0.7992045110520214, 0.7992045110520214, 0.7992045110520214, 0.7992045110520214, 0.7992045110520214, 0.80447582797402, 0.80447582797402]}], \"weighted_accuracy\": [{\"categories\": [\"0\", \"1\", \"2\", \"3\", \"4\", \"5\", \"6\", \"7\", \"8\", \"9\", \"10\", \"11\", \"12\", \"13\"], \"mode\": \"markers\", \"name\": \"weighted_accuracy\", \"stepped\": false, \"type\": \"scatter\", \"data\": [0.9052555101522735, 0.9091817316578092, 0.9139252447643773, 0.9231253627753698, 0.7746839604406672, 0.731149700160709, 0.9056879737106223, 0.9246206764219247, 0.9069081588939829, 0.9080009145485716, 0.9134749651333172, 0.9025661518796746, 0.9044958551711932, 0.9060145745097479]}, {\"categories\": [\"0\", \"1\", \"2\", \"3\", \"4\", \"5\", \"6\", \"7\", \"8\", \"9\", \"10\", \"11\", \"12\", \"13\"], \"mode\": \"lines\", \"name\": \"weighted_accuracy_max\", \"stepped\": true, \"type\": \"scatter\", \"data\": [0.9052555101522735, 0.9091817316578092, 0.9139252447643773, 0.9231253627753698, 0.9231253627753698, 0.9231253627753698, 0.9231253627753698, 0.9246206764219247, 0.9246206764219247, 0.9246206764219247, 0.9246206764219247, 0.9246206764219247, 0.9246206764219247, 0.9246206764219247]}], \"precision_score_macro\": [{\"categories\": [\"0\", \"1\", \"2\", \"3\", \"4\", \"5\", \"6\", \"7\", \"8\", \"9\", \"10\", \"11\", \"12\", \"13\"], \"mode\": \"markers\", \"name\": \"precision_score_macro\", \"stepped\": false, \"type\": \"scatter\", \"data\": [0.7557317515684138, 0.7620677199899686, 0.7552013619101359, 0.7594326599035024, 0.6713864845544972, 0.6493493907201082, 0.7562286369534619, 0.7757281887410059, 0.7466602688105126, 0.7596958422572957, 0.758072879287344, 0.7508701864515246, 0.7590937726639264, 0.7580963999331729]}, {\"categories\": [\"0\", \"1\", \"2\", \"3\", \"4\", \"5\", \"6\", \"7\", \"8\", \"9\", \"10\", \"11\", \"12\", \"13\"], \"mode\": \"lines\", \"name\": \"precision_score_macro_max\", \"stepped\": true, \"type\": \"scatter\", \"data\": [0.7557317515684138, 0.7620677199899686, 0.7620677199899686, 0.7620677199899686, 0.7620677199899686, 0.7620677199899686, 0.7620677199899686, 0.7757281887410059, 0.7757281887410059, 0.7757281887410059, 0.7757281887410059, 0.7757281887410059, 0.7757281887410059, 0.7757281887410059]}], \"average_precision_score_micro\": [{\"categories\": [\"0\", \"1\", \"2\", \"3\", \"4\", \"5\", \"6\", \"7\", \"8\", \"9\", \"10\", \"11\", \"12\", \"13\"], \"mode\": \"markers\", \"name\": \"average_precision_score_micro\", \"stepped\": false, \"type\": \"scatter\", \"data\": [0.8718833311922611, 0.8732115779897389, 0.8639915281653923, 0.85714482662606, 0.7675530121422763, 0.7433835658715662, 0.8723857919194347, 0.8607616849208328, 0.8677665879183034, 0.8626078886562112, 0.8640452422629552, 0.8690423788328856, 0.8753539414024202, 0.8762688939294822]}, {\"categories\": [\"0\", \"1\", \"2\", \"3\", \"4\", \"5\", \"6\", \"7\", \"8\", \"9\", \"10\", \"11\", \"12\", \"13\"], \"mode\": \"lines\", \"name\": \"average_precision_score_micro_max\", \"stepped\": true, \"type\": \"scatter\", \"data\": [0.8718833311922611, 0.8732115779897389, 0.8732115779897389, 0.8732115779897389, 0.8732115779897389, 0.8732115779897389, 0.8732115779897389, 0.8732115779897389, 0.8732115779897389, 0.8732115779897389, 0.8732115779897389, 0.8732115779897389, 0.8753539414024202, 0.8762688939294822]}], \"recall_score_micro\": [{\"categories\": [\"0\", \"1\", \"2\", \"3\", \"4\", \"5\", \"6\", \"7\", \"8\", \"9\", \"10\", \"11\", \"12\", \"13\"], \"mode\": \"markers\", \"name\": \"recall_score_micro\", \"stepped\": false, \"type\": \"scatter\", \"data\": [0.8200666666666667, 0.8208666666666666, 0.81, 0.7863, 0.7530333333333333, 0.7189333333333333, 0.8199333333333333, 0.7889666666666667, 0.8125333333333333, 0.8204666666666667, 0.8128333333333334, 0.8187333333333333, 0.8230333333333333, 0.8209]}, {\"categories\": [\"0\", \"1\", \"2\", \"3\", \"4\", \"5\", \"6\", \"7\", \"8\", \"9\", \"10\", \"11\", \"12\", \"13\"], \"mode\": \"lines\", \"name\": \"recall_score_micro_max\", \"stepped\": true, \"type\": \"scatter\", \"data\": [0.8200666666666667, 0.8208666666666666, 0.8208666666666666, 0.8208666666666666, 0.8208666666666666, 0.8208666666666666, 0.8208666666666666, 0.8208666666666666, 0.8208666666666666, 0.8208666666666666, 0.8208666666666666, 0.8208666666666666, 0.8230333333333333, 0.8230333333333333]}], \"precision_score_micro\": [{\"categories\": [\"0\", \"1\", \"2\", \"3\", \"4\", \"5\", \"6\", \"7\", \"8\", \"9\", \"10\", \"11\", \"12\", \"13\"], \"mode\": \"markers\", \"name\": \"precision_score_micro\", \"stepped\": false, \"type\": \"scatter\", \"data\": [0.8200666666666667, 0.8208666666666666, 0.81, 0.7863, 0.7530333333333333, 0.7189333333333333, 0.8199333333333333, 0.7889666666666667, 0.8125333333333333, 0.8204666666666667, 0.8128333333333334, 0.8187333333333333, 0.8230333333333333, 0.8209]}, {\"categories\": [\"0\", \"1\", \"2\", \"3\", \"4\", \"5\", \"6\", \"7\", \"8\", \"9\", \"10\", \"11\", \"12\", \"13\"], \"mode\": \"lines\", \"name\": \"precision_score_micro_max\", \"stepped\": true, \"type\": \"scatter\", \"data\": [0.8200666666666667, 0.8208666666666666, 0.8208666666666666, 0.8208666666666666, 0.8208666666666666, 0.8208666666666666, 0.8208666666666666, 0.8208666666666666, 0.8208666666666666, 0.8208666666666666, 0.8208666666666666, 0.8208666666666666, 0.8230333333333333, 0.8230333333333333]}], \"average_precision_score_weighted\": [{\"categories\": [\"0\", \"1\", \"2\", \"3\", \"4\", \"5\", \"6\", \"7\", \"8\", \"9\", \"10\", \"11\", \"12\", \"13\"], \"mode\": \"markers\", \"name\": \"average_precision_score_weighted\", \"stepped\": false, \"type\": \"scatter\", \"data\": [0.8322873085193018, 0.8338854183792256, 0.8206023474579327, 0.8131240279570165, 0.8256550258468661, 0.8093172433667161, 0.8326138059350093, 0.8198234861092663, 0.8242455835629825, 0.8217185505338616, 0.820602491264347, 0.8291531595083763, 0.837095359404652, 0.8378751112824872]}, {\"categories\": [\"0\", \"1\", \"2\", \"3\", \"4\", \"5\", \"6\", \"7\", \"8\", \"9\", \"10\", \"11\", \"12\", \"13\"], \"mode\": \"lines\", \"name\": \"average_precision_score_weighted_max\", \"stepped\": true, \"type\": \"scatter\", \"data\": [0.8322873085193018, 0.8338854183792256, 0.8338854183792256, 0.8338854183792256, 0.8338854183792256, 0.8338854183792256, 0.8338854183792256, 0.8338854183792256, 0.8338854183792256, 0.8338854183792256, 0.8338854183792256, 0.8338854183792256, 0.837095359404652, 0.8378751112824872]}], \"accuracy\": [{\"categories\": [\"0\", \"1\", \"2\", \"3\", \"4\", \"5\", \"6\", \"7\", \"8\", \"9\", \"10\", \"11\", \"12\", \"13\"], \"mode\": \"markers\", \"name\": \"accuracy\", \"stepped\": false, \"type\": \"scatter\", \"data\": [0.8200666666666667, 0.8208666666666666, 0.81, 0.7863, 0.7530333333333333, 0.7189333333333333, 0.8199333333333333, 0.7889666666666667, 0.8125333333333333, 0.8204666666666667, 0.8128333333333334, 0.8187333333333333, 0.8230333333333333, 0.8209]}, {\"categories\": [\"0\", \"1\", \"2\", \"3\", \"4\", \"5\", \"6\", \"7\", \"8\", \"9\", \"10\", \"11\", \"12\", \"13\"], \"mode\": \"lines\", \"name\": \"accuracy_max\", \"stepped\": true, \"type\": \"scatter\", \"data\": [0.8200666666666667, 0.8208666666666666, 0.8208666666666666, 0.8208666666666666, 0.8208666666666666, 0.8208666666666666, 0.8208666666666666, 0.8208666666666666, 0.8208666666666666, 0.8208666666666666, 0.8208666666666666, 0.8208666666666666, 0.8230333333333333, 0.8230333333333333]}]}, \"metricName\": null, \"primaryMetricName\": \"accuracy\", \"showLegend\": false}, \"run_metrics\": [{\"name\": \"experiment_status\", \"run_id\": \"AutoML_ccde6c0d-a9c9-4a73-9f7a-57fb995e324c\", \"categories\": [0, 1, 2, 3, 4, 5, 6, 7, 8, 9], \"series\": [{\"data\": [\"DatasetEvaluation\", \"FeaturesGeneration\", \"DatasetFeaturization\", \"DatasetFeaturizationCompleted\", \"DatasetCrossValidationSplit\", \"ModelSelection\", \"BestRunExplainModel\", \"ModelExplanationDataSetSetup\", \"PickSurrogateModel\", \"EngineeredFeatureExplanations\"]}]}, {\"name\": \"experiment_status_description\", \"run_id\": \"AutoML_ccde6c0d-a9c9-4a73-9f7a-57fb995e324c\", \"categories\": [0, 1, 2, 3, 4, 5, 6, 7, 8, 9], \"series\": [{\"data\": [\"Gathering dataset statistics.\", \"Generating features for the dataset.\", \"Beginning to fit featurizers and featurize the dataset.\", \"Completed fit featurizers and featurizing the dataset.\", \"Generating individually featurized CV splits.\", \"Beginning model selection.\", \"Best run model explanations started\", \"Model explanations data setup completed\", \"Choosing LightGBM as the surrogate model for explanations\", \"Computation of engineered features started\"]}]}, {\"name\": \"f1_score_macro\", \"run_id\": \"AutoML_ccde6c0d-a9c9-4a73-9f7a-57fb995e324c\", \"categories\": [0], \"series\": [{\"data\": [0.69318729816508]}]}, {\"name\": \"log_loss\", \"run_id\": \"AutoML_ccde6c0d-a9c9-4a73-9f7a-57fb995e324c\", \"categories\": [0], \"series\": [{\"data\": [0.4297777886469005]}]}, {\"name\": \"AUC_weighted\", \"run_id\": \"AutoML_ccde6c0d-a9c9-4a73-9f7a-57fb995e324c\", \"categories\": [0], \"series\": [{\"data\": [0.784648251770135]}]}, {\"name\": \"f1_score_weighted\", \"run_id\": \"AutoML_ccde6c0d-a9c9-4a73-9f7a-57fb995e324c\", \"categories\": [0], \"series\": [{\"data\": [0.80447582797402]}]}, {\"name\": \"accuracy\", \"run_id\": \"AutoML_ccde6c0d-a9c9-4a73-9f7a-57fb995e324c\", \"categories\": [0], \"series\": [{\"data\": [0.8230333333333333]}]}, {\"name\": \"precision_score_micro\", \"run_id\": \"AutoML_ccde6c0d-a9c9-4a73-9f7a-57fb995e324c\", \"categories\": [0], \"series\": [{\"data\": [0.8230333333333333]}]}, {\"name\": \"precision_score_weighted\", \"run_id\": \"AutoML_ccde6c0d-a9c9-4a73-9f7a-57fb995e324c\", \"categories\": [0], \"series\": [{\"data\": [0.8071985884018628]}]}, {\"name\": \"average_precision_score_weighted\", \"run_id\": \"AutoML_ccde6c0d-a9c9-4a73-9f7a-57fb995e324c\", \"categories\": [0], \"series\": [{\"data\": [0.837095359404652]}]}, {\"name\": \"balanced_accuracy\", \"run_id\": \"AutoML_ccde6c0d-a9c9-4a73-9f7a-57fb995e324c\", \"categories\": [0], \"series\": [{\"data\": [0.6680837311058706]}]}, {\"name\": \"weighted_accuracy\", \"run_id\": \"AutoML_ccde6c0d-a9c9-4a73-9f7a-57fb995e324c\", \"categories\": [0], \"series\": [{\"data\": [0.9044958551711932]}]}, {\"name\": \"f1_score_micro\", \"run_id\": \"AutoML_ccde6c0d-a9c9-4a73-9f7a-57fb995e324c\", \"categories\": [0], \"series\": [{\"data\": [0.8230333333333333]}]}, {\"name\": \"matthews_correlation\", \"run_id\": \"AutoML_ccde6c0d-a9c9-4a73-9f7a-57fb995e324c\", \"categories\": [0], \"series\": [{\"data\": [0.4172729399486569]}]}, {\"name\": \"average_precision_score_micro\", \"run_id\": \"AutoML_ccde6c0d-a9c9-4a73-9f7a-57fb995e324c\", \"categories\": [0], \"series\": [{\"data\": [0.8753539414024202]}]}, {\"name\": \"norm_macro_recall\", \"run_id\": \"AutoML_ccde6c0d-a9c9-4a73-9f7a-57fb995e324c\", \"categories\": [0], \"series\": [{\"data\": [0.3361674622117411]}]}, {\"name\": \"AUC_macro\", \"run_id\": \"AutoML_ccde6c0d-a9c9-4a73-9f7a-57fb995e324c\", \"categories\": [0], \"series\": [{\"data\": [0.784648251770135]}]}, {\"name\": \"average_precision_score_macro\", \"run_id\": \"AutoML_ccde6c0d-a9c9-4a73-9f7a-57fb995e324c\", \"categories\": [0], \"series\": [{\"data\": [0.7393882370846003]}]}, {\"name\": \"precision_score_macro\", \"run_id\": \"AutoML_ccde6c0d-a9c9-4a73-9f7a-57fb995e324c\", \"categories\": [0], \"series\": [{\"data\": [0.7590937726639264]}]}, {\"name\": \"recall_score_micro\", \"run_id\": \"AutoML_ccde6c0d-a9c9-4a73-9f7a-57fb995e324c\", \"categories\": [0], \"series\": [{\"data\": [0.8230333333333333]}]}, {\"name\": \"recall_score_weighted\", \"run_id\": \"AutoML_ccde6c0d-a9c9-4a73-9f7a-57fb995e324c\", \"categories\": [0], \"series\": [{\"data\": [0.8230333333333333]}]}, {\"name\": \"recall_score_macro\", \"run_id\": \"AutoML_ccde6c0d-a9c9-4a73-9f7a-57fb995e324c\", \"categories\": [0], \"series\": [{\"data\": [0.6680837311058706]}]}, {\"name\": \"AUC_micro\", \"run_id\": \"AutoML_ccde6c0d-a9c9-4a73-9f7a-57fb995e324c\", \"categories\": [0], \"series\": [{\"data\": [0.884051288888889]}]}], \"run_logs\": \"\\nRun is completed.\", \"graph\": {}, \"widget_settings\": {\"childWidgetDisplay\": \"popup\", \"send_telemetry\": false, \"log_level\": \"INFO\", \"sdk_version\": \"1.20.0\"}, \"loading\": false}"
     },
     "metadata": {},
     "output_type": "display_data"
    },
    {
     "name": "stdout",
     "output_type": "stream",
     "text": [
      "\n",
      "Current status: FeaturesGeneration. Generating features for the dataset.\n",
      "Current status: DatasetFeaturization. Beginning to fit featurizers and featurize the dataset.\n",
      "Current status: DatasetCrossValidationSplit. Generating individually featurized CV splits.\n",
      "Current status: ModelSelection. Beginning model selection.\n",
      "\n",
      "****************************************************************************************************\n",
      "DATA GUARDRAILS: \n",
      "\n",
      "TYPE:         Class balancing detection\n",
      "STATUS:       PASSED\n",
      "DESCRIPTION:  Your inputs were analyzed, and all classes are balanced in your training data.\n",
      "              Learn more about imbalanced data: https://aka.ms/AutomatedMLImbalancedData\n",
      "\n",
      "****************************************************************************************************\n",
      "\n",
      "TYPE:         Missing feature values imputation\n",
      "STATUS:       PASSED\n",
      "DESCRIPTION:  No feature missing values were detected in the training data.\n",
      "              Learn more about missing value imputation: https://aka.ms/AutomatedMLFeaturization\n",
      "\n",
      "****************************************************************************************************\n",
      "\n",
      "TYPE:         High cardinality feature detection\n",
      "STATUS:       PASSED\n",
      "DESCRIPTION:  Your inputs were analyzed, and no high cardinality features were detected.\n",
      "              Learn more about high cardinality feature handling: https://aka.ms/AutomatedMLFeaturization\n",
      "\n",
      "****************************************************************************************************\n",
      "\n",
      "****************************************************************************************************\n",
      "ITERATION: The iteration being evaluated.\n",
      "PIPELINE: A summary description of the pipeline being evaluated.\n",
      "DURATION: Time taken for the current iteration.\n",
      "METRIC: The result of computing score on the fitted pipeline.\n",
      "BEST: The best observed score thus far.\n",
      "****************************************************************************************************\n",
      "\n",
      " ITERATION   PIPELINE                                       DURATION      METRIC      BEST\n",
      "         0   MaxAbsScaler LightGBM                          0:01:06       0.8201    0.8201\n",
      "         1   MaxAbsScaler XGBoostClassifier                 0:01:09       0.8209    0.8209\n",
      "         2   MaxAbsScaler RandomForest                      0:00:56       0.8100    0.8209\n",
      "         3   MaxAbsScaler RandomForest                      0:00:57       0.7863    0.8209\n",
      "         4   MaxAbsScaler RandomForest                      0:00:57       0.7530    0.8209\n",
      "         5   MaxAbsScaler RandomForest                      0:00:54       0.7189    0.8209\n",
      "         6   SparseNormalizer XGBoostClassifier             0:01:20       0.8199    0.8209\n",
      "         7   MaxAbsScaler RandomForest                      0:01:55       0.7890    0.8209\n",
      "         8   SparseNormalizer LightGBM                      0:01:00       0.8125    0.8209\n",
      "         9   MaxAbsScaler LogisticRegression                0:00:56       0.8205    0.8209\n",
      "        10   MaxAbsScaler RandomForest                      0:03:28       0.8128    0.8209\n",
      "        11   SparseNormalizer XGBoostClassifier             0:02:45       0.8187    0.8209\n",
      "        12    VotingEnsemble                                0:01:33       0.8230    0.8230\n",
      "        13    StackEnsemble                                 0:01:32       0.8209    0.8230\n"
     ]
    },
    {
     "data": {
      "text/plain": [
       "{'runId': 'AutoML_ccde6c0d-a9c9-4a73-9f7a-57fb995e324c',\n",
       " 'target': 'compute-train',\n",
       " 'status': 'Completed',\n",
       " 'startTimeUtc': '2021-02-13T22:39:00.916053Z',\n",
       " 'endTimeUtc': '2021-02-13T23:11:41.836484Z',\n",
       " 'properties': {'num_iterations': '1000',\n",
       "  'training_type': 'TrainFull',\n",
       "  'acquisition_function': 'EI',\n",
       "  'primary_metric': 'accuracy',\n",
       "  'train_split': '0',\n",
       "  'acquisition_parameter': '0',\n",
       "  'num_cross_validation': '4',\n",
       "  'target': 'compute-train',\n",
       "  'AMLSettingsJsonString': '{\"path\":null,\"name\":\"capstone-project\",\"subscription_id\":\"f5878af0-ca26-411c-9906-acf91f5420e2\",\"resource_group\":\"grouprisk\",\"workspace_name\":\"msc-lrn-dev\",\"region\":\"westeurope\",\"compute_target\":\"compute-train\",\"spark_service\":null,\"azure_service\":\"remote\",\"many_models\":false,\"pipeline_fetch_max_batch_size\":1,\"iterations\":1000,\"primary_metric\":\"accuracy\",\"task_type\":\"classification\",\"data_script\":null,\"validation_size\":0.0,\"n_cross_validations\":4,\"y_min\":null,\"y_max\":null,\"num_classes\":null,\"featurization\":\"auto\",\"_ignore_package_version_incompatibilities\":false,\"is_timeseries\":false,\"max_cores_per_iteration\":1,\"max_concurrent_iterations\":1,\"iteration_timeout_minutes\":null,\"mem_in_mb\":null,\"enforce_time_on_windows\":false,\"experiment_timeout_minutes\":20,\"experiment_exit_score\":null,\"whitelist_models\":null,\"blacklist_algos\":[\"TensorFlowLinearClassifier\",\"TensorFlowDNN\"],\"supported_models\":[\"GradientBoosting\",\"LinearSVM\",\"LogisticRegression\",\"DecisionTree\",\"ExtremeRandomTrees\",\"AveragedPerceptronClassifier\",\"SGD\",\"TensorFlowDNN\",\"TensorFlowLinearClassifier\",\"SVM\",\"BernoulliNaiveBayes\",\"RandomForest\",\"KNN\",\"XGBoostClassifier\",\"MultinomialNaiveBayes\",\"LightGBM\"],\"auto_blacklist\":true,\"blacklist_samples_reached\":false,\"exclude_nan_labels\":true,\"verbosity\":20,\"_debug_log\":\"azureml_automl.log\",\"show_warnings\":false,\"model_explainability\":true,\"service_url\":null,\"sdk_url\":null,\"sdk_packages\":null,\"enable_onnx_compatible_models\":false,\"enable_split_onnx_featurizer_estimator_models\":false,\"vm_type\":\"STANDARD_DS2_V2\",\"telemetry_verbosity\":20,\"send_telemetry\":true,\"enable_dnn\":false,\"scenario\":\"SDK-1.13.0\",\"environment_label\":null,\"force_text_dnn\":false,\"enable_feature_sweeping\":true,\"enable_early_stopping\":false,\"early_stopping_n_iters\":10,\"metrics\":null,\"enable_ensembling\":true,\"enable_stack_ensembling\":true,\"ensemble_iterations\":15,\"enable_tf\":false,\"enable_subsampling\":null,\"subsample_seed\":null,\"enable_nimbusml\":false,\"enable_streaming\":false,\"force_streaming\":false,\"track_child_runs\":true,\"allowed_private_models\":[],\"label_column_name\":\"Y\",\"weight_column_name\":null,\"cv_split_column_names\":null,\"enable_local_managed\":false,\"_local_managed_run_id\":null,\"cost_mode\":1,\"lag_length\":0,\"metric_operation\":\"maximize\",\"preprocess\":true}',\n",
       "  'DataPrepJsonString': '{\\\\\"training_data\\\\\": \\\\\"{\\\\\\\\\\\\\"blocks\\\\\\\\\\\\\": [{\\\\\\\\\\\\\"id\\\\\\\\\\\\\": \\\\\\\\\\\\\"3521da30-64a7-4b6a-827b-27947f3c4b59\\\\\\\\\\\\\", \\\\\\\\\\\\\"type\\\\\\\\\\\\\": \\\\\\\\\\\\\"Microsoft.DPrep.GetDatastoreFilesBlock\\\\\\\\\\\\\", \\\\\\\\\\\\\"arguments\\\\\\\\\\\\\": {\\\\\\\\\\\\\"datastores\\\\\\\\\\\\\": [{\\\\\\\\\\\\\"datastoreName\\\\\\\\\\\\\": \\\\\\\\\\\\\"workspaceblobstore\\\\\\\\\\\\\", \\\\\\\\\\\\\"path\\\\\\\\\\\\\": \\\\\\\\\\\\\"train_data/cleaned_dataset.csv\\\\\\\\\\\\\", \\\\\\\\\\\\\"resourceGroup\\\\\\\\\\\\\": \\\\\\\\\\\\\"grouprisk\\\\\\\\\\\\\", \\\\\\\\\\\\\"subscription\\\\\\\\\\\\\": \\\\\\\\\\\\\"f5878af0-ca26-411c-9906-acf91f5420e2\\\\\\\\\\\\\", \\\\\\\\\\\\\"workspaceName\\\\\\\\\\\\\": \\\\\\\\\\\\\"msc-lrn-dev\\\\\\\\\\\\\"}]}, \\\\\\\\\\\\\"localData\\\\\\\\\\\\\": {}, \\\\\\\\\\\\\"isEnabled\\\\\\\\\\\\\": true, \\\\\\\\\\\\\"name\\\\\\\\\\\\\": null, \\\\\\\\\\\\\"annotation\\\\\\\\\\\\\": null}, {\\\\\\\\\\\\\"id\\\\\\\\\\\\\": \\\\\\\\\\\\\"2fb6c419-5315-40a2-a51b-04a02edfd4c1\\\\\\\\\\\\\", \\\\\\\\\\\\\"type\\\\\\\\\\\\\": \\\\\\\\\\\\\"Microsoft.DPrep.ParseDelimitedBlock\\\\\\\\\\\\\", \\\\\\\\\\\\\"arguments\\\\\\\\\\\\\": {\\\\\\\\\\\\\"columnHeadersMode\\\\\\\\\\\\\": 3, \\\\\\\\\\\\\"fileEncoding\\\\\\\\\\\\\": 0, \\\\\\\\\\\\\"handleQuotedLineBreaks\\\\\\\\\\\\\": false, \\\\\\\\\\\\\"preview\\\\\\\\\\\\\": false, \\\\\\\\\\\\\"separator\\\\\\\\\\\\\": \\\\\\\\\\\\\",\\\\\\\\\\\\\", \\\\\\\\\\\\\"skipRows\\\\\\\\\\\\\": 0, \\\\\\\\\\\\\"skipRowsMode\\\\\\\\\\\\\": 0}, \\\\\\\\\\\\\"localData\\\\\\\\\\\\\": {}, \\\\\\\\\\\\\"isEnabled\\\\\\\\\\\\\": true, \\\\\\\\\\\\\"name\\\\\\\\\\\\\": null, \\\\\\\\\\\\\"annotation\\\\\\\\\\\\\": null}, {\\\\\\\\\\\\\"id\\\\\\\\\\\\\": \\\\\\\\\\\\\"c3111cb3-a504-463e-81dc-3e513a4ae78d\\\\\\\\\\\\\", \\\\\\\\\\\\\"type\\\\\\\\\\\\\": \\\\\\\\\\\\\"Microsoft.DPrep.DropColumnsBlock\\\\\\\\\\\\\", \\\\\\\\\\\\\"arguments\\\\\\\\\\\\\": {\\\\\\\\\\\\\"columns\\\\\\\\\\\\\": {\\\\\\\\\\\\\"type\\\\\\\\\\\\\": 0, \\\\\\\\\\\\\"details\\\\\\\\\\\\\": {\\\\\\\\\\\\\"selectedColumns\\\\\\\\\\\\\": [\\\\\\\\\\\\\"Path\\\\\\\\\\\\\"]}}}, \\\\\\\\\\\\\"localData\\\\\\\\\\\\\": {}, \\\\\\\\\\\\\"isEnabled\\\\\\\\\\\\\": true, \\\\\\\\\\\\\"name\\\\\\\\\\\\\": null, \\\\\\\\\\\\\"annotation\\\\\\\\\\\\\": null}, {\\\\\\\\\\\\\"id\\\\\\\\\\\\\": \\\\\\\\\\\\\"f9336b8c-acfe-4c51-bd1b-9c7c1bdb45c9\\\\\\\\\\\\\", \\\\\\\\\\\\\"type\\\\\\\\\\\\\": \\\\\\\\\\\\\"Microsoft.DPrep.SetColumnTypesBlock\\\\\\\\\\\\\", \\\\\\\\\\\\\"arguments\\\\\\\\\\\\\": {\\\\\\\\\\\\\"columnConversion\\\\\\\\\\\\\": [{\\\\\\\\\\\\\"column\\\\\\\\\\\\\": {\\\\\\\\\\\\\"type\\\\\\\\\\\\\": 2, \\\\\\\\\\\\\"details\\\\\\\\\\\\\": {\\\\\\\\\\\\\"selectedColumn\\\\\\\\\\\\\": \\\\\\\\\\\\\"LIMIT_BAL\\\\\\\\\\\\\"}}, \\\\\\\\\\\\\"typeProperty\\\\\\\\\\\\\": 2}, {\\\\\\\\\\\\\"column\\\\\\\\\\\\\": {\\\\\\\\\\\\\"type\\\\\\\\\\\\\": 2, \\\\\\\\\\\\\"details\\\\\\\\\\\\\": {\\\\\\\\\\\\\"selectedColumn\\\\\\\\\\\\\": \\\\\\\\\\\\\"SEX\\\\\\\\\\\\\"}}, \\\\\\\\\\\\\"typeProperty\\\\\\\\\\\\\": 2}, {\\\\\\\\\\\\\"column\\\\\\\\\\\\\": {\\\\\\\\\\\\\"type\\\\\\\\\\\\\": 2, \\\\\\\\\\\\\"details\\\\\\\\\\\\\": {\\\\\\\\\\\\\"selectedColumn\\\\\\\\\\\\\": \\\\\\\\\\\\\"AGE\\\\\\\\\\\\\"}}, \\\\\\\\\\\\\"typeProperty\\\\\\\\\\\\\": 2}, {\\\\\\\\\\\\\"column\\\\\\\\\\\\\": {\\\\\\\\\\\\\"type\\\\\\\\\\\\\": 2, \\\\\\\\\\\\\"details\\\\\\\\\\\\\": {\\\\\\\\\\\\\"selectedColumn\\\\\\\\\\\\\": \\\\\\\\\\\\\"PAY_0\\\\\\\\\\\\\"}}, \\\\\\\\\\\\\"typeProperty\\\\\\\\\\\\\": 2}, {\\\\\\\\\\\\\"column\\\\\\\\\\\\\": {\\\\\\\\\\\\\"type\\\\\\\\\\\\\": 2, \\\\\\\\\\\\\"details\\\\\\\\\\\\\": {\\\\\\\\\\\\\"selectedColumn\\\\\\\\\\\\\": \\\\\\\\\\\\\"PAY_2\\\\\\\\\\\\\"}}, \\\\\\\\\\\\\"typeProperty\\\\\\\\\\\\\": 2}, {\\\\\\\\\\\\\"column\\\\\\\\\\\\\": {\\\\\\\\\\\\\"type\\\\\\\\\\\\\": 2, \\\\\\\\\\\\\"details\\\\\\\\\\\\\": {\\\\\\\\\\\\\"selectedColumn\\\\\\\\\\\\\": \\\\\\\\\\\\\"PAY_3\\\\\\\\\\\\\"}}, \\\\\\\\\\\\\"typeProperty\\\\\\\\\\\\\": 2}, {\\\\\\\\\\\\\"column\\\\\\\\\\\\\": {\\\\\\\\\\\\\"type\\\\\\\\\\\\\": 2, \\\\\\\\\\\\\"details\\\\\\\\\\\\\": {\\\\\\\\\\\\\"selectedColumn\\\\\\\\\\\\\": \\\\\\\\\\\\\"PAY_4\\\\\\\\\\\\\"}}, \\\\\\\\\\\\\"typeProperty\\\\\\\\\\\\\": 2}, {\\\\\\\\\\\\\"column\\\\\\\\\\\\\": {\\\\\\\\\\\\\"type\\\\\\\\\\\\\": 2, \\\\\\\\\\\\\"details\\\\\\\\\\\\\": {\\\\\\\\\\\\\"selectedColumn\\\\\\\\\\\\\": \\\\\\\\\\\\\"PAY_5\\\\\\\\\\\\\"}}, \\\\\\\\\\\\\"typeProperty\\\\\\\\\\\\\": 2}, {\\\\\\\\\\\\\"column\\\\\\\\\\\\\": {\\\\\\\\\\\\\"type\\\\\\\\\\\\\": 2, \\\\\\\\\\\\\"details\\\\\\\\\\\\\": {\\\\\\\\\\\\\"selectedColumn\\\\\\\\\\\\\": \\\\\\\\\\\\\"PAY_6\\\\\\\\\\\\\"}}, \\\\\\\\\\\\\"typeProperty\\\\\\\\\\\\\": 2}, {\\\\\\\\\\\\\"column\\\\\\\\\\\\\": {\\\\\\\\\\\\\"type\\\\\\\\\\\\\": 2, \\\\\\\\\\\\\"details\\\\\\\\\\\\\": {\\\\\\\\\\\\\"selectedColumn\\\\\\\\\\\\\": \\\\\\\\\\\\\"BILL_AMT1\\\\\\\\\\\\\"}}, \\\\\\\\\\\\\"typeProperty\\\\\\\\\\\\\": 2}, {\\\\\\\\\\\\\"column\\\\\\\\\\\\\": {\\\\\\\\\\\\\"type\\\\\\\\\\\\\": 2, \\\\\\\\\\\\\"details\\\\\\\\\\\\\": {\\\\\\\\\\\\\"selectedColumn\\\\\\\\\\\\\": \\\\\\\\\\\\\"BILL_AMT2\\\\\\\\\\\\\"}}, \\\\\\\\\\\\\"typeProperty\\\\\\\\\\\\\": 2}, {\\\\\\\\\\\\\"column\\\\\\\\\\\\\": {\\\\\\\\\\\\\"type\\\\\\\\\\\\\": 2, \\\\\\\\\\\\\"details\\\\\\\\\\\\\": {\\\\\\\\\\\\\"selectedColumn\\\\\\\\\\\\\": \\\\\\\\\\\\\"BILL_AMT3\\\\\\\\\\\\\"}}, \\\\\\\\\\\\\"typeProperty\\\\\\\\\\\\\": 2}, {\\\\\\\\\\\\\"column\\\\\\\\\\\\\": {\\\\\\\\\\\\\"type\\\\\\\\\\\\\": 2, \\\\\\\\\\\\\"details\\\\\\\\\\\\\": {\\\\\\\\\\\\\"selectedColumn\\\\\\\\\\\\\": \\\\\\\\\\\\\"BILL_AMT4\\\\\\\\\\\\\"}}, \\\\\\\\\\\\\"typeProperty\\\\\\\\\\\\\": 2}, {\\\\\\\\\\\\\"column\\\\\\\\\\\\\": {\\\\\\\\\\\\\"type\\\\\\\\\\\\\": 2, \\\\\\\\\\\\\"details\\\\\\\\\\\\\": {\\\\\\\\\\\\\"selectedColumn\\\\\\\\\\\\\": \\\\\\\\\\\\\"BILL_AMT5\\\\\\\\\\\\\"}}, \\\\\\\\\\\\\"typeProperty\\\\\\\\\\\\\": 2}, {\\\\\\\\\\\\\"column\\\\\\\\\\\\\": {\\\\\\\\\\\\\"type\\\\\\\\\\\\\": 2, \\\\\\\\\\\\\"details\\\\\\\\\\\\\": {\\\\\\\\\\\\\"selectedColumn\\\\\\\\\\\\\": \\\\\\\\\\\\\"BILL_AMT6\\\\\\\\\\\\\"}}, \\\\\\\\\\\\\"typeProperty\\\\\\\\\\\\\": 2}, {\\\\\\\\\\\\\"column\\\\\\\\\\\\\": {\\\\\\\\\\\\\"type\\\\\\\\\\\\\": 2, \\\\\\\\\\\\\"details\\\\\\\\\\\\\": {\\\\\\\\\\\\\"selectedColumn\\\\\\\\\\\\\": \\\\\\\\\\\\\"PAY_AMT1\\\\\\\\\\\\\"}}, \\\\\\\\\\\\\"typeProperty\\\\\\\\\\\\\": 2}, {\\\\\\\\\\\\\"column\\\\\\\\\\\\\": {\\\\\\\\\\\\\"type\\\\\\\\\\\\\": 2, \\\\\\\\\\\\\"details\\\\\\\\\\\\\": {\\\\\\\\\\\\\"selectedColumn\\\\\\\\\\\\\": \\\\\\\\\\\\\"PAY_AMT2\\\\\\\\\\\\\"}}, \\\\\\\\\\\\\"typeProperty\\\\\\\\\\\\\": 2}, {\\\\\\\\\\\\\"column\\\\\\\\\\\\\": {\\\\\\\\\\\\\"type\\\\\\\\\\\\\": 2, \\\\\\\\\\\\\"details\\\\\\\\\\\\\": {\\\\\\\\\\\\\"selectedColumn\\\\\\\\\\\\\": \\\\\\\\\\\\\"PAY_AMT3\\\\\\\\\\\\\"}}, \\\\\\\\\\\\\"typeProperty\\\\\\\\\\\\\": 2}, {\\\\\\\\\\\\\"column\\\\\\\\\\\\\": {\\\\\\\\\\\\\"type\\\\\\\\\\\\\": 2, \\\\\\\\\\\\\"details\\\\\\\\\\\\\": {\\\\\\\\\\\\\"selectedColumn\\\\\\\\\\\\\": \\\\\\\\\\\\\"PAY_AMT4\\\\\\\\\\\\\"}}, \\\\\\\\\\\\\"typeProperty\\\\\\\\\\\\\": 2}, {\\\\\\\\\\\\\"column\\\\\\\\\\\\\": {\\\\\\\\\\\\\"type\\\\\\\\\\\\\": 2, \\\\\\\\\\\\\"details\\\\\\\\\\\\\": {\\\\\\\\\\\\\"selectedColumn\\\\\\\\\\\\\": \\\\\\\\\\\\\"PAY_AMT5\\\\\\\\\\\\\"}}, \\\\\\\\\\\\\"typeProperty\\\\\\\\\\\\\": 2}, {\\\\\\\\\\\\\"column\\\\\\\\\\\\\": {\\\\\\\\\\\\\"type\\\\\\\\\\\\\": 2, \\\\\\\\\\\\\"details\\\\\\\\\\\\\": {\\\\\\\\\\\\\"selectedColumn\\\\\\\\\\\\\": \\\\\\\\\\\\\"PAY_AMT6\\\\\\\\\\\\\"}}, \\\\\\\\\\\\\"typeProperty\\\\\\\\\\\\\": 2}, {\\\\\\\\\\\\\"column\\\\\\\\\\\\\": {\\\\\\\\\\\\\"type\\\\\\\\\\\\\": 2, \\\\\\\\\\\\\"details\\\\\\\\\\\\\": {\\\\\\\\\\\\\"selectedColumn\\\\\\\\\\\\\": \\\\\\\\\\\\\"Y\\\\\\\\\\\\\"}}, \\\\\\\\\\\\\"typeProperty\\\\\\\\\\\\\": 2}, {\\\\\\\\\\\\\"column\\\\\\\\\\\\\": {\\\\\\\\\\\\\"type\\\\\\\\\\\\\": 2, \\\\\\\\\\\\\"details\\\\\\\\\\\\\": {\\\\\\\\\\\\\"selectedColumn\\\\\\\\\\\\\": \\\\\\\\\\\\\"edu_0\\\\\\\\\\\\\"}}, \\\\\\\\\\\\\"typeProperty\\\\\\\\\\\\\": 2}, {\\\\\\\\\\\\\"column\\\\\\\\\\\\\": {\\\\\\\\\\\\\"type\\\\\\\\\\\\\": 2, \\\\\\\\\\\\\"details\\\\\\\\\\\\\": {\\\\\\\\\\\\\"selectedColumn\\\\\\\\\\\\\": \\\\\\\\\\\\\"edu_1\\\\\\\\\\\\\"}}, \\\\\\\\\\\\\"typeProperty\\\\\\\\\\\\\": 2}, {\\\\\\\\\\\\\"column\\\\\\\\\\\\\": {\\\\\\\\\\\\\"type\\\\\\\\\\\\\": 2, \\\\\\\\\\\\\"details\\\\\\\\\\\\\": {\\\\\\\\\\\\\"selectedColumn\\\\\\\\\\\\\": \\\\\\\\\\\\\"edu_2\\\\\\\\\\\\\"}}, \\\\\\\\\\\\\"typeProperty\\\\\\\\\\\\\": 2}, {\\\\\\\\\\\\\"column\\\\\\\\\\\\\": {\\\\\\\\\\\\\"type\\\\\\\\\\\\\": 2, \\\\\\\\\\\\\"details\\\\\\\\\\\\\": {\\\\\\\\\\\\\"selectedColumn\\\\\\\\\\\\\": \\\\\\\\\\\\\"edu_3\\\\\\\\\\\\\"}}, \\\\\\\\\\\\\"typeProperty\\\\\\\\\\\\\": 2}, {\\\\\\\\\\\\\"column\\\\\\\\\\\\\": {\\\\\\\\\\\\\"type\\\\\\\\\\\\\": 2, \\\\\\\\\\\\\"details\\\\\\\\\\\\\": {\\\\\\\\\\\\\"selectedColumn\\\\\\\\\\\\\": \\\\\\\\\\\\\"edu_4\\\\\\\\\\\\\"}}, \\\\\\\\\\\\\"typeProperty\\\\\\\\\\\\\": 2}, {\\\\\\\\\\\\\"column\\\\\\\\\\\\\": {\\\\\\\\\\\\\"type\\\\\\\\\\\\\": 2, \\\\\\\\\\\\\"details\\\\\\\\\\\\\": {\\\\\\\\\\\\\"selectedColumn\\\\\\\\\\\\\": \\\\\\\\\\\\\"edu_5\\\\\\\\\\\\\"}}, \\\\\\\\\\\\\"typeProperty\\\\\\\\\\\\\": 2}, {\\\\\\\\\\\\\"column\\\\\\\\\\\\\": {\\\\\\\\\\\\\"type\\\\\\\\\\\\\": 2, \\\\\\\\\\\\\"details\\\\\\\\\\\\\": {\\\\\\\\\\\\\"selectedColumn\\\\\\\\\\\\\": \\\\\\\\\\\\\"edu_6\\\\\\\\\\\\\"}}, \\\\\\\\\\\\\"typeProperty\\\\\\\\\\\\\": 2}, {\\\\\\\\\\\\\"column\\\\\\\\\\\\\": {\\\\\\\\\\\\\"type\\\\\\\\\\\\\": 2, \\\\\\\\\\\\\"details\\\\\\\\\\\\\": {\\\\\\\\\\\\\"selectedColumn\\\\\\\\\\\\\": \\\\\\\\\\\\\"marriage_0\\\\\\\\\\\\\"}}, \\\\\\\\\\\\\"typeProperty\\\\\\\\\\\\\": 2}, {\\\\\\\\\\\\\"column\\\\\\\\\\\\\": {\\\\\\\\\\\\\"type\\\\\\\\\\\\\": 2, \\\\\\\\\\\\\"details\\\\\\\\\\\\\": {\\\\\\\\\\\\\"selectedColumn\\\\\\\\\\\\\": \\\\\\\\\\\\\"marriage_1\\\\\\\\\\\\\"}}, \\\\\\\\\\\\\"typeProperty\\\\\\\\\\\\\": 2}, {\\\\\\\\\\\\\"column\\\\\\\\\\\\\": {\\\\\\\\\\\\\"type\\\\\\\\\\\\\": 2, \\\\\\\\\\\\\"details\\\\\\\\\\\\\": {\\\\\\\\\\\\\"selectedColumn\\\\\\\\\\\\\": \\\\\\\\\\\\\"marriage_2\\\\\\\\\\\\\"}}, \\\\\\\\\\\\\"typeProperty\\\\\\\\\\\\\": 2}, {\\\\\\\\\\\\\"column\\\\\\\\\\\\\": {\\\\\\\\\\\\\"type\\\\\\\\\\\\\": 2, \\\\\\\\\\\\\"details\\\\\\\\\\\\\": {\\\\\\\\\\\\\"selectedColumn\\\\\\\\\\\\\": \\\\\\\\\\\\\"marriage_3\\\\\\\\\\\\\"}}, \\\\\\\\\\\\\"typeProperty\\\\\\\\\\\\\": 2}]}, \\\\\\\\\\\\\"localData\\\\\\\\\\\\\": {}, \\\\\\\\\\\\\"isEnabled\\\\\\\\\\\\\": true, \\\\\\\\\\\\\"name\\\\\\\\\\\\\": null, \\\\\\\\\\\\\"annotation\\\\\\\\\\\\\": null}], \\\\\\\\\\\\\"inspectors\\\\\\\\\\\\\": [], \\\\\\\\\\\\\"meta\\\\\\\\\\\\\": {\\\\\\\\\\\\\"savedDatasetId\\\\\\\\\\\\\": \\\\\\\\\\\\\"60ca1432-ebe2-492f-9f6a-19abd7248536\\\\\\\\\\\\\", \\\\\\\\\\\\\"datasetType\\\\\\\\\\\\\": \\\\\\\\\\\\\"tabular\\\\\\\\\\\\\", \\\\\\\\\\\\\"subscriptionId\\\\\\\\\\\\\": \\\\\\\\\\\\\"f5878af0-ca26-411c-9906-acf91f5420e2\\\\\\\\\\\\\", \\\\\\\\\\\\\"workspaceId\\\\\\\\\\\\\": \\\\\\\\\\\\\"6ea30628-b18e-4797-b69c-4dafbbb4a8b7\\\\\\\\\\\\\", \\\\\\\\\\\\\"workspaceLocation\\\\\\\\\\\\\": \\\\\\\\\\\\\"westeurope\\\\\\\\\\\\\"}}\\\\\", \\\\\"activities\\\\\": 0}',\n",
       "  'EnableSubsampling': None,\n",
       "  'runTemplate': 'AutoML',\n",
       "  'azureml.runsource': 'automl',\n",
       "  'display_task_type': 'classification',\n",
       "  'dependencies_versions': '{\"azureml-widgets\": \"1.20.0\", \"azureml-train\": \"1.20.0\", \"azureml-train-restclients-hyperdrive\": \"1.20.0\", \"azureml-train-core\": \"1.20.0\", \"azureml-train-automl\": \"1.20.0\", \"azureml-train-automl-runtime\": \"1.20.0\", \"azureml-train-automl-client\": \"1.20.0\", \"azureml-tensorboard\": \"1.20.0\", \"azureml-telemetry\": \"1.20.0\", \"azureml-sdk\": \"1.20.0\", \"azureml-samples\": \"0+unknown\", \"azureml-pipeline\": \"1.20.0\", \"azureml-pipeline-steps\": \"1.20.0\", \"azureml-pipeline-core\": \"1.20.0\", \"azureml-opendatasets\": \"1.20.0\", \"azureml-model-management-sdk\": \"1.0.1b6.post1\", \"azureml-mlflow\": \"1.20.0.post1\", \"azureml-interpret\": \"1.20.0\", \"azureml-explain-model\": \"1.20.0\", \"azureml-defaults\": \"1.20.0\", \"azureml-dataset-runtime\": \"1.20.0\", \"azureml-dataprep\": \"2.7.3\", \"azureml-dataprep-rslex\": \"1.5.0\", \"azureml-dataprep-native\": \"27.0.0\", \"azureml-datadrift\": \"1.20.0\", \"azureml-core\": \"1.20.0\", \"azureml-contrib-services\": \"1.20.0\", \"azureml-contrib-server\": \"1.20.0\", \"azureml-contrib-reinforcementlearning\": \"1.20.0\", \"azureml-contrib-pipeline-steps\": \"1.20.0\", \"azureml-contrib-notebook\": \"1.20.0\", \"azureml-contrib-interpret\": \"1.20.0\", \"azureml-contrib-gbdt\": \"1.20.0\", \"azureml-contrib-fairness\": \"1.20.0\", \"azureml-contrib-dataset\": \"1.20.0\", \"azureml-cli-common\": \"1.20.0\", \"azureml-automl-runtime\": \"1.20.0\", \"azureml-automl-core\": \"1.20.0\", \"azureml-accel-models\": \"1.20.0\"}',\n",
       "  '_aml_system_scenario_identification': 'Remote.Parent',\n",
       "  'ClientType': 'SDK',\n",
       "  'environment_cpu_name': 'AzureML-AutoML',\n",
       "  'environment_cpu_label': 'prod',\n",
       "  'environment_gpu_name': 'AzureML-AutoML-GPU',\n",
       "  'environment_gpu_label': 'prod',\n",
       "  'root_attribution': 'automl',\n",
       "  'attribution': 'AutoML',\n",
       "  'Orchestrator': 'AutoML',\n",
       "  'CancelUri': 'https://westeurope.experiments.azureml.net/jasmine/v1.0/subscriptions/f5878af0-ca26-411c-9906-acf91f5420e2/resourceGroups/grouprisk/providers/Microsoft.MachineLearningServices/workspaces/msc-lrn-dev/experimentids/bcad880d-ca38-465e-ac5b-4a0802278268/cancel/AutoML_ccde6c0d-a9c9-4a73-9f7a-57fb995e324c',\n",
       "  'azureml.git.repository_uri': 'https://github.com/udacity/nd00333-capstone.git',\n",
       "  'mlflow.source.git.repoURL': 'https://github.com/udacity/nd00333-capstone.git',\n",
       "  'azureml.git.branch': 'master',\n",
       "  'mlflow.source.git.branch': 'master',\n",
       "  'azureml.git.commit': 'bb8bb394f2d1a40e23f582b5c1b308628e329b33',\n",
       "  'mlflow.source.git.commit': 'bb8bb394f2d1a40e23f582b5c1b308628e329b33',\n",
       "  'azureml.git.dirty': 'True',\n",
       "  'ClientSdkVersion': '1.21.0',\n",
       "  'snapshotId': '00000000-0000-0000-0000-000000000000',\n",
       "  'SetupRunId': 'AutoML_ccde6c0d-a9c9-4a73-9f7a-57fb995e324c_setup',\n",
       "  'SetupRunContainerId': 'dcid.AutoML_ccde6c0d-a9c9-4a73-9f7a-57fb995e324c_setup',\n",
       "  'FeaturizationRunJsonPath': 'featurizer_container.json',\n",
       "  'FeaturizationRunId': 'AutoML_ccde6c0d-a9c9-4a73-9f7a-57fb995e324c_featurize',\n",
       "  'ProblemInfoJsonString': '{\"dataset_num_categorical\": 0, \"is_sparse\": true, \"subsampling\": false, \"dataset_classes\": 2, \"dataset_features\": 90, \"dataset_samples\": 30000, \"single_frequency_class_detected\": false}',\n",
       "  'ModelExplainRunId': 'AutoML_ccde6c0d-a9c9-4a73-9f7a-57fb995e324c_ModelExplain'},\n",
       " 'inputDatasets': [{'dataset': {'id': '60ca1432-ebe2-492f-9f6a-19abd7248536'}, 'consumptionDetails': {'type': 'RunInput', 'inputName': 'training_data', 'mechanism': 'Direct'}}],\n",
       " 'outputDatasets': [],\n",
       " 'logFiles': {},\n",
       " 'submittedBy': 'Avineil Jain'}"
      ]
     },
     "execution_count": 19,
     "metadata": {},
     "output_type": "execute_result"
    }
   ],
   "source": [
    "from azureml.widgets import RunDetails\n",
    "RunDetails(remote_run).show()\n",
    "remote_run.wait_for_completion(show_output=True)"
   ]
  },
  {
   "cell_type": "markdown",
   "metadata": {},
   "source": [
    "## Best Model"
   ]
  },
  {
   "cell_type": "code",
   "execution_count": 21,
   "metadata": {
    "gather": {
     "logged": 1598431425670
    },
    "jupyter": {
     "outputs_hidden": false,
     "source_hidden": false
    },
    "nteract": {
     "transient": {
      "deleting": false
     }
    }
   },
   "outputs": [
    {
     "name": "stderr",
     "output_type": "stream",
     "text": [
      "WARNING:root:The version of the SDK does not match the version the model was trained on.\n",
      "WARNING:root:The consistency in the result may not be guaranteed.\n",
      "WARNING:root:Package:azureml-automl-core, training version:1.21.0, current version:1.20.0\n",
      "Package:azureml-automl-runtime, training version:1.21.0, current version:1.20.0\n",
      "Package:azureml-core, training version:1.21.0.post1, current version:1.20.0\n",
      "Package:azureml-dataprep, training version:2.8.2, current version:2.7.3\n",
      "Package:azureml-dataprep-native, training version:28.0.0, current version:27.0.0\n",
      "Package:azureml-dataprep-rslex, training version:1.6.0, current version:1.5.0\n",
      "Package:azureml-dataset-runtime, training version:1.21.0, current version:1.20.0\n",
      "Package:azureml-defaults, training version:1.21.0, current version:1.20.0\n",
      "Package:azureml-interpret, training version:1.21.0, current version:1.20.0\n",
      "Package:azureml-pipeline-core, training version:1.21.0, current version:1.20.0\n",
      "Package:azureml-telemetry, training version:1.21.0, current version:1.20.0\n",
      "Package:azureml-train-automl-client, training version:1.21.0, current version:1.20.0\n",
      "Package:azureml-train-automl-runtime, training version:1.21.0, current version:1.20.0\n",
      "WARNING:root:Please ensure the version of your local conda dependencies match the version on which your model was trained in order to properly retrieve your model.\n"
     ]
    }
   ],
   "source": [
    "best_run, best_model = remote_run.get_output()"
   ]
  },
  {
   "cell_type": "code",
   "execution_count": 5,
   "metadata": {},
   "outputs": [
    {
     "name": "stdout",
     "output_type": "stream",
     "text": [
      "Run(Experiment: capstone-project,\n",
      "Id: AutoML_ccde6c0d-a9c9-4a73-9f7a-57fb995e324c_12,\n",
      "Type: azureml.scriptrun,\n",
      "Status: Completed)\n",
      "[('1', Pipeline(memory=None,\n",
      "         steps=[('maxabsscaler', MaxAbsScaler(copy=True)),\n",
      "                ('xgboostclassifier',\n",
      "                 XGBoostClassifier(base_score=0.5, booster='gbtree',\n",
      "                                   colsample_bylevel=1, colsample_bynode=1,\n",
      "                                   colsample_bytree=1, gamma=0,\n",
      "                                   learning_rate=0.1, max_delta_step=0,\n",
      "                                   max_depth=3, min_child_weight=1, missing=nan,\n",
      "                                   n_estimators=100, n_jobs=1, nthread=None,\n",
      "                                   objective='binary:logistic', random_state=0,\n",
      "                                   reg_alpha=0, reg_lambda=1,\n",
      "                                   scale_pos_weight=1, seed=None, silent=None,\n",
      "                                   subsample=1, tree_method='auto', verbose=-10,\n",
      "                                   verbosity=0))],\n",
      "         verbose=False)), ('9', Pipeline(memory=None,\n",
      "         steps=[('maxabsscaler', MaxAbsScaler(copy=True)),\n",
      "                ('logisticregression',\n",
      "                 LogisticRegression(C=2.559547922699533, class_weight=None,\n",
      "                                    dual=False, fit_intercept=True,\n",
      "                                    intercept_scaling=1, l1_ratio=None,\n",
      "                                    max_iter=100, multi_class='ovr', n_jobs=1,\n",
      "                                    penalty='l2', random_state=None,\n",
      "                                    solver='saga', tol=0.0001, verbose=0,\n",
      "                                    warm_start=False))],\n",
      "         verbose=False)), ('0', Pipeline(memory=None,\n",
      "         steps=[('maxabsscaler', MaxAbsScaler(copy=True)),\n",
      "                ('lightgbmclassifier',\n",
      "                 LightGBMClassifier(boosting_type='gbdt', class_weight=None,\n",
      "                                    colsample_bytree=1.0,\n",
      "                                    importance_type='split', learning_rate=0.1,\n",
      "                                    max_depth=-1, min_child_samples=20,\n",
      "                                    min_child_weight=0.001, min_split_gain=0.0,\n",
      "                                    n_estimators=100, n_jobs=1, num_leaves=31,\n",
      "                                    objective=None, random_state=None,\n",
      "                                    reg_alpha=0.0, reg_lambda=0.0, silent=True,\n",
      "                                    subsample=1.0, subsample_for_bin=200000,\n",
      "                                    subsample_freq=0, verbose=-10))],\n",
      "         verbose=False)), ('6', Pipeline(memory=None,\n",
      "         steps=[('sparsenormalizer',\n",
      "                 <azureml.automl.runtime.shared.model_wrappers.SparseNormalizer object at 0x7f28bb0aa518>),\n",
      "                ('xgboostclassifier',\n",
      "                 XGBoostClassifier(base_score=0.5, booster='gbtree',\n",
      "                                   colsample_bylevel=1, colsample_bynode=1,\n",
      "                                   colsample_bytree=0.9, eta=0.3, gamma=0,\n",
      "                                   learning_rate=0.1, max_delta_step=0,\n",
      "                                   max_depth=9, max_leaves=0,\n",
      "                                   min_child_weight=1, missing=nan,\n",
      "                                   n_estimators=25, n_jobs=1, nthread=None,\n",
      "                                   objective='reg:logistic', random_state=0,\n",
      "                                   reg_alpha=0, reg_lambda=0.7291666666666667,\n",
      "                                   scale_pos_weight=1, seed=None, silent=None,\n",
      "                                   subsample=0.9, tree_method='auto',\n",
      "                                   verbose=-10, verbosity=0))],\n",
      "         verbose=False)), ('11', Pipeline(memory=None,\n",
      "         steps=[('sparsenormalizer',\n",
      "                 <azureml.automl.runtime.shared.model_wrappers.SparseNormalizer object at 0x7f28bb0b31d0>),\n",
      "                ('xgboostclassifier',\n",
      "                 XGBoostClassifier(base_score=0.5, booster='gbtree',\n",
      "                                   colsample_bylevel=0.6, colsample_bynode=1,\n",
      "                                   colsample_bytree=1, eta=0.3, gamma=0.01,\n",
      "                                   learning_rate=0.1, max_delta_step=0,\n",
      "                                   max_depth=7, max_leaves=7,\n",
      "                                   min_child_weight=1, missing=nan,\n",
      "                                   n_estimators=200, n_jobs=1, nthread=None,\n",
      "                                   objective='reg:logistic', random_state=0,\n",
      "                                   reg_alpha=1.4583333333333335,\n",
      "                                   reg_lambda=1.7708333333333335,\n",
      "                                   scale_pos_weight=1, seed=None, silent=None,\n",
      "                                   subsample=1, tree_method='auto', verbose=-10,\n",
      "                                   verbosity=0))],\n",
      "         verbose=False)), ('4', Pipeline(memory=None,\n",
      "         steps=[('maxabsscaler', MaxAbsScaler(copy=True)),\n",
      "                ('randomforestclassifier',\n",
      "                 RandomForestClassifier(bootstrap=True, ccp_alpha=0.0,\n",
      "                                        class_weight='balanced',\n",
      "                                        criterion='gini', max_depth=None,\n",
      "                                        max_features='log2',\n",
      "                                        max_leaf_nodes=None, max_samples=None,\n",
      "                                        min_impurity_decrease=0.0,\n",
      "                                        min_impurity_split=None,\n",
      "                                        min_samples_leaf=0.01,\n",
      "                                        min_samples_split=0.01,\n",
      "                                        min_weight_fraction_leaf=0.0,\n",
      "                                        n_estimators=25, n_jobs=1,\n",
      "                                        oob_score=True, random_state=None,\n",
      "                                        verbose=0, warm_start=False))],\n",
      "         verbose=False))]\n"
     ]
    }
   ],
   "source": [
    "# Best Run Details\n",
    "print(best_run)\n",
    "\n",
    "# Best Model Parameters\n",
    "print(best_model.steps[1][1].estimators)"
   ]
  },
  {
   "cell_type": "code",
   "execution_count": 6,
   "metadata": {},
   "outputs": [
    {
     "name": "stdout",
     "output_type": "stream",
     "text": [
      "Run(Experiment: capstone-project,\n",
      "Id: AutoML_ccde6c0d-a9c9-4a73-9f7a-57fb995e324c_12,\n",
      "Type: azureml.scriptrun,\n",
      "Status: Completed)\n",
      "0.8230333333333333\n"
     ]
    }
   ],
   "source": [
    "print(best_run)\n",
    "print(best_run.properties[\"score\"])"
   ]
  },
  {
   "cell_type": "code",
   "execution_count": 25,
   "metadata": {},
   "outputs": [],
   "source": [
    "#Saving the model by registering it with the workspace\n",
    "model_auto = best_run.register_model(model_name = \"AutoML_model-1\", description = \"Best Auto ML Model\", model_path='outputs/model.pkl')"
   ]
  },
  {
   "cell_type": "markdown",
   "metadata": {},
   "source": [
    "## Model Deployment\n",
    "\n",
    "Comparing both models trained by Hyperdrive and AutoML, I have decided to deploy the AutoML model since it performs much better on the dataset\n",
    "\n",
    "TODO: In the cell below, register the model, create an inference config and deploy the model as a web service."
   ]
  },
  {
   "cell_type": "code",
   "execution_count": 3,
   "metadata": {},
   "outputs": [],
   "source": [
    "from azureml.train.automl.run import AutoMLRun\n",
    "ws = Workspace.from_config()\n",
    "experiment = ws.experiments['capstone-project']\n",
    "automl_run = AutoMLRun(experiment=experiment, run_id= \"AutoML_ccde6c0d-a9c9-4a73-9f7a-57fb995e324c\")"
   ]
  },
  {
   "cell_type": "code",
   "execution_count": 4,
   "metadata": {},
   "outputs": [
    {
     "name": "stderr",
     "output_type": "stream",
     "text": [
      "WARNING:root:The version of the SDK does not match the version the model was trained on.\n",
      "WARNING:root:The consistency in the result may not be guaranteed.\n",
      "WARNING:root:Package:azureml-automl-core, training version:1.21.0, current version:1.20.0\n",
      "Package:azureml-automl-runtime, training version:1.21.0, current version:1.20.0\n",
      "Package:azureml-core, training version:1.21.0.post1, current version:1.20.0\n",
      "Package:azureml-dataprep, training version:2.8.2, current version:2.7.3\n",
      "Package:azureml-dataprep-native, training version:28.0.0, current version:27.0.0\n",
      "Package:azureml-dataprep-rslex, training version:1.6.0, current version:1.5.0\n",
      "Package:azureml-dataset-runtime, training version:1.21.0, current version:1.20.0\n",
      "Package:azureml-defaults, training version:1.21.0, current version:1.20.0\n",
      "Package:azureml-interpret, training version:1.21.0, current version:1.20.0\n",
      "Package:azureml-pipeline-core, training version:1.21.0, current version:1.20.0\n",
      "Package:azureml-telemetry, training version:1.21.0, current version:1.20.0\n",
      "Package:azureml-train-automl-client, training version:1.21.0, current version:1.20.0\n",
      "Package:azureml-train-automl-runtime, training version:1.21.0, current version:1.20.0\n",
      "WARNING:root:Please ensure the version of your local conda dependencies match the version on which your model was trained in order to properly retrieve your model.\n"
     ]
    }
   ],
   "source": [
    "best_run, best_model = automl_run.get_output()"
   ]
  },
  {
   "cell_type": "code",
   "execution_count": 71,
   "metadata": {},
   "outputs": [
    {
     "data": {
      "text/plain": [
       "[('datatransformer',\n",
       "  DataTransformer(enable_dnn=None, enable_feature_sweeping=None,\n",
       "                  feature_sweeping_config=None, feature_sweeping_timeout=None,\n",
       "                  featurization_config=None, force_text_dnn=None,\n",
       "                  is_cross_validation=None, is_onnx_compatible=None, logger=None,\n",
       "                  observer=None, task=None, working_dir=None)),\n",
       " ('prefittedsoftvotingclassifier',\n",
       "  PreFittedSoftVotingClassifier(classification_labels=None,\n",
       "                                estimators=[('1',\n",
       "                                             Pipeline(memory=None,\n",
       "                                                      steps=[('maxabsscaler',\n",
       "                                                              MaxAbsScaler(copy=True)),\n",
       "                                                             ('xgboostclassifier',\n",
       "                                                              XGBoostClassifier(base_score=0.5,\n",
       "                                                                                booster='gbtree',\n",
       "                                                                                colsample_bylevel=1,\n",
       "                                                                                colsample_bynode=1,\n",
       "                                                                                colsample_bytree=1,\n",
       "                                                                                gamma=0,\n",
       "                                                                                learning_rate=0.1,\n",
       "                                                                                max_delta_step=0,\n",
       "                                                                                max_depth=3,\n",
       "                                                                                min_child_weight=1,\n",
       "                                                                                miss...\n",
       "                                                                                     min_impurity_decrease=0.0,\n",
       "                                                                                     min_impurity_split=None,\n",
       "                                                                                     min_samples_leaf=0.01,\n",
       "                                                                                     min_samples_split=0.01,\n",
       "                                                                                     min_weight_fraction_leaf=0.0,\n",
       "                                                                                     n_estimators=25,\n",
       "                                                                                     n_jobs=1,\n",
       "                                                                                     oob_score=True,\n",
       "                                                                                     random_state=None,\n",
       "                                                                                     verbose=0,\n",
       "                                                                                     warm_start=False))],\n",
       "                                                      verbose=False))],\n",
       "                                flatten_transform=None,\n",
       "                                weights=[0.06666666666666667, 0.06666666666666667,\n",
       "                                         0.26666666666666666, 0.06666666666666667,\n",
       "                                         0.4, 0.13333333333333333]))]"
      ]
     },
     "execution_count": 71,
     "metadata": {},
     "output_type": "execute_result"
    }
   ],
   "source": [
    "best_model.steps"
   ]
  },
  {
   "cell_type": "markdown",
   "metadata": {},
   "source": [
    "### NOTE: \n",
    "Since we use AutoML to train a model, AzureML also provides us with the scoring file and the env file that we can use for deployment. Using this file is the best way to avoid errors and load the correct environment"
   ]
  },
  {
   "cell_type": "code",
   "execution_count": 46,
   "metadata": {},
   "outputs": [],
   "source": [
    "script_file = 'score.py'\n",
    "best_run.download_file('outputs/scoring_file_v_1_0_0.py', script_file)\n",
    "best_run.download_file('outputs/conda_env_v_1_0_0.yml', 'env.yml')"
   ]
  },
  {
   "cell_type": "markdown",
   "metadata": {},
   "source": [
    "Deploying the Model using an InferenceConfig File and a DeploymentConfig File"
   ]
  },
  {
   "cell_type": "code",
   "execution_count": 57,
   "metadata": {},
   "outputs": [],
   "source": [
    "from azureml.core import Workspace, Environment\n",
    "from azureml.core.webservice import AciWebservice\n",
    "from azureml.core.model import Model, InferenceConfig\n",
    "\n",
    "ws = Workspace.from_config()\n",
    "run_env = Environment.from_conda_specification(name = 'run-env', file_path = './env.yml')\n",
    "    \n",
    "inference_config = InferenceConfig(entry_script=script_file, environment=run_env)\n",
    "deployment_config = AciWebservice.deploy_configuration(cpu_cores = 1, memory_gb = 1, auth_enabled = True, enable_app_insights = True)\n",
    "model1 = Model(workspace=ws, name=\"AutoML_model-1\")"
   ]
  },
  {
   "cell_type": "code",
   "execution_count": 58,
   "metadata": {},
   "outputs": [
    {
     "name": "stdout",
     "output_type": "stream",
     "text": [
      "Tips: You can try get_logs(): https://aka.ms/debugimage#dockerlog or local deployment: https://aka.ms/debugimage#debug-locally to debug if deployment takes longer than 10 minutes.\n",
      "Running.............................................\n",
      "Succeeded\n",
      "ACI service creation operation finished, operation \"Succeeded\"\n",
      "Healthy\n"
     ]
    }
   ],
   "source": [
    "service = Model.deploy(ws, \"deployed-automl-model2\", [model1], inference_config, deployment_config)\n",
    "service.wait_for_deployment(show_output = True)\n",
    "print(service.state)"
   ]
  },
  {
   "cell_type": "code",
   "execution_count": 75,
   "metadata": {},
   "outputs": [],
   "source": [
    "import requests\n",
    "import json\n",
    "\n",
    "data = {\"data\":\n",
    "        [\n",
    "          {\n",
    "            \"LIMIT_BAL\": 20000, \n",
    "            \"SEX\": 1, \n",
    "            \"AGE\": 25, \n",
    "            \"PAY_0\": -1, \n",
    "            \"PAY_2\": 2, \n",
    "            \"PAY_3\": 0, \n",
    "            \"PAY_4\": 2, \n",
    "            \"PAY_5\": 2, \n",
    "            \"PAY_6\": -1, \n",
    "            \"BILL_AMT1\": 4000, \n",
    "            \"BILL_AMT2\": 3000, \n",
    "            \"BILL_AMT3\": 2000, \n",
    "            \"BILL_AMT4\": 1000, \n",
    "            \"BILL_AMT5\": 0, \n",
    "            \"BILL_AMT6\": 0, \n",
    "            \"PAY_AMT1\": 700, \n",
    "            \"PAY_AMT2\": 0,\n",
    "            \"PAY_AMT3\": 0, \n",
    "            \"PAY_AMT4\": 0, \n",
    "            \"PAY_AMT5\": 0, \n",
    "            \"PAY_AMT6\": 0, \n",
    "            \"edu_0\": 0, \n",
    "            \"edu_1\": 1, \n",
    "            \"edu_2\": 0, \n",
    "            \"edu_3\": 0, \n",
    "            \"edu_4\": 0, \n",
    "            \"edu_5\": 0, \n",
    "            \"edu_6\": 0, \n",
    "            \"marriage_0\": 0, \n",
    "            \"marriage_1\": 0, \n",
    "            \"marriage_2\": 1, \n",
    "            \"marriage_3\": 0\n",
    "        }\n",
    "      ]\n",
    "    }\n"
   ]
  },
  {
   "cell_type": "markdown",
   "metadata": {},
   "source": [
    "Sending data to the endpoint, and checking whether it works"
   ]
  },
  {
   "cell_type": "code",
   "execution_count": 76,
   "metadata": {},
   "outputs": [
    {
     "name": "stdout",
     "output_type": "stream",
     "text": [
      "{\"result\": [0]}\n"
     ]
    }
   ],
   "source": [
    "scoring_uri = service.scoring_uri\n",
    "key = service.get_keys()[0]\n",
    "\n",
    "#Convert to JSON string\n",
    "input_data = json.dumps(data)\n",
    "with open(\"data.json\", \"w\") as _f:\n",
    "   _f.write(input_data)\n",
    "\n",
    "#Set the content type\n",
    "headers = {'Content-Type': 'application/json'}\n",
    "\n",
    "#If authentication is enabled, set the authorization header\n",
    "headers['Authorization'] = f'Bearer {key}'\n",
    "\n",
    "#Make the request and display the response\n",
    "resp = requests.post(scoring_uri, input_data, headers=headers)\n",
    "print(resp.json())"
   ]
  },
  {
   "cell_type": "code",
   "execution_count": 77,
   "metadata": {
    "jupyter": {
     "outputs_hidden": false,
     "source_hidden": false
    },
    "nteract": {
     "transient": {
      "deleting": false
     }
    }
   },
   "outputs": [
    {
     "name": "stdout",
     "output_type": "stream",
     "text": [
      "2021-02-15T15:14:58,188769753+00:00 - rsyslog/run \n",
      "2021-02-15T15:14:58,189409654+00:00 - iot-server/run \n",
      "2021-02-15T15:14:58,189784455+00:00 - gunicorn/run \n",
      "2021-02-15T15:14:58,198474180+00:00 - nginx/run \n",
      "/usr/sbin/nginx: /azureml-envs/azureml_7785023fceb74e4facc1b1a577b1faf9/lib/libcrypto.so.1.0.0: no version information available (required by /usr/sbin/nginx)\n",
      "/usr/sbin/nginx: /azureml-envs/azureml_7785023fceb74e4facc1b1a577b1faf9/lib/libcrypto.so.1.0.0: no version information available (required by /usr/sbin/nginx)\n",
      "/usr/sbin/nginx: /azureml-envs/azureml_7785023fceb74e4facc1b1a577b1faf9/lib/libssl.so.1.0.0: no version information available (required by /usr/sbin/nginx)\n",
      "/usr/sbin/nginx: /azureml-envs/azureml_7785023fceb74e4facc1b1a577b1faf9/lib/libssl.so.1.0.0: no version information available (required by /usr/sbin/nginx)\n",
      "/usr/sbin/nginx: /azureml-envs/azureml_7785023fceb74e4facc1b1a577b1faf9/lib/libssl.so.1.0.0: no version information available (required by /usr/sbin/nginx)\n",
      "rsyslogd: /azureml-envs/azureml_7785023fceb74e4facc1b1a577b1faf9/lib/libuuid.so.1: no version information available (required by rsyslogd)\n",
      "EdgeHubConnectionString and IOTEDGE_IOTHUBHOSTNAME are not set. Exiting...\n",
      "2021-02-15T15:14:58,573293049+00:00 - iot-server/finish 1 0\n",
      "2021-02-15T15:14:58,581346472+00:00 - Exit code 1 is normal. Not restarting iot-server.\n",
      "Starting gunicorn 19.9.0\n",
      "Listening at: http://127.0.0.1:31311 (12)\n",
      "Using worker: sync\n",
      "worker timeout is set to 300\n",
      "Booting worker with pid: 39\n",
      "SPARK_HOME not set. Skipping PySpark Initialization.\n",
      "Generating new fontManager, this may take some time...\n",
      "Initializing logger\n",
      "2021-02-15 15:15:00,062 | root | INFO | Starting up app insights client\n",
      "2021-02-15 15:15:00,063 | root | INFO | Starting up request id generator\n",
      "2021-02-15 15:15:00,063 | root | INFO | Starting up app insight hooks\n",
      "2021-02-15 15:15:00,063 | root | INFO | Invoking user's init function\n",
      "2021-02-15 15:15:04,252 | root | INFO | Users's init has completed successfully\n",
      "2021-02-15 15:15:04,256 | root | INFO | Skipping middleware: dbg_model_info as it's not enabled.\n",
      "2021-02-15 15:15:04,257 | root | INFO | Skipping middleware: dbg_resource_usage as it's not enabled.\n",
      "2021-02-15 15:15:04,260 | root | INFO | Scoring timeout is found from os.environ: 60000 ms\n",
      "2021-02-15 15:15:13,447 | root | INFO | 200\n",
      "127.0.0.1 - - [15/Feb/2021:15:15:13 +0000] \"GET /swagger.json HTTP/1.0\" 200 4056 \"-\" \"Go-http-client/1.1\"\n",
      "2021-02-15 15:15:15,297 | root | INFO | 200\n",
      "127.0.0.1 - - [15/Feb/2021:15:15:15 +0000] \"GET /swagger.json HTTP/1.0\" 200 4056 \"-\" \"Go-http-client/1.1\"\n",
      "2021-02-15 15:15:38,063 | root | INFO | Validation Request Content-Type\n",
      "2021-02-15 15:15:38,063 | root | INFO | Scoring Timer is set to 60.0 seconds\n",
      "2021-02-15 15:15:38,207 | root | INFO | 200\n",
      "127.0.0.1 - - [15/Feb/2021:15:15:38 +0000] \"POST /score HTTP/1.0\" 200 19 \"-\" \"python-requests/2.25.1\"\n",
      "2021-02-15 15:16:40,498 | root | INFO | Validation Request Content-Type\n",
      "2021-02-15 15:16:40,498 | root | INFO | Scoring Timer is set to 60.0 seconds\n",
      "2021-02-15 15:16:40,634 | root | INFO | 200\n",
      "127.0.0.1 - - [15/Feb/2021:15:16:40 +0000] \"POST /score HTTP/1.0\" 200 19 \"-\" \"python-requests/2.25.1\"\n",
      "2021-02-15 15:19:09,029 | root | INFO | 200\n",
      "127.0.0.1 - - [15/Feb/2021:15:19:09 +0000] \"GET /swagger.json HTTP/1.0\" 200 4056 \"-\" \"Go-http-client/1.1\"\n",
      "2021-02-15 15:19:09,354 | root | INFO | 200\n",
      "127.0.0.1 - - [15/Feb/2021:15:19:09 +0000] \"GET /swagger.json HTTP/1.0\" 200 4056 \"-\" \"Go-http-client/1.1\"\n",
      "2021-02-15 15:58:31,138 | root | INFO | 200\n",
      "127.0.0.1 - - [15/Feb/2021:15:58:31 +0000] \"GET /swagger.json HTTP/1.0\" 200 4056 \"-\" \"Go-http-client/1.1\"\n",
      "2021-02-15 15:58:32,445 | root | INFO | 200\n",
      "127.0.0.1 - - [15/Feb/2021:15:58:32 +0000] \"GET /swagger.json HTTP/1.0\" 200 4056 \"-\" \"Go-http-client/1.1\"\n",
      "2021-02-15 16:58:54,902 | root | INFO | 200\n",
      "127.0.0.1 - - [15/Feb/2021:16:58:54 +0000] \"GET /swagger.json HTTP/1.0\" 200 4056 \"-\" \"Go-http-client/1.1\"\n",
      "2021-02-15 16:58:56,181 | root | INFO | 200\n",
      "127.0.0.1 - - [15/Feb/2021:16:58:56 +0000] \"GET /swagger.json HTTP/1.0\" 200 4056 \"-\" \"Go-http-client/1.1\"\n",
      "2021-02-15 20:57:13,919 | root | INFO | 200\n",
      "127.0.0.1 - - [15/Feb/2021:20:57:13 +0000] \"GET /swagger.json HTTP/1.0\" 200 4056 \"-\" \"Go-http-client/1.1\"\n",
      "2021-02-15 20:57:16,903 | root | INFO | 200\n",
      "127.0.0.1 - - [15/Feb/2021:20:57:16 +0000] \"GET /swagger.json HTTP/1.0\" 200 4056 \"-\" \"Go-http-client/1.1\"\n",
      "2021-02-15 21:01:51,545 | root | INFO | 200\n",
      "127.0.0.1 - - [15/Feb/2021:21:01:51 +0000] \"GET /swagger.json HTTP/1.0\" 200 4056 \"-\" \"Go-http-client/1.1\"\n",
      "2021-02-15 21:01:52,716 | root | INFO | 200\n",
      "127.0.0.1 - - [15/Feb/2021:21:01:52 +0000] \"GET /swagger.json HTTP/1.0\" 200 4056 \"-\" \"Go-http-client/1.1\"\n",
      "2021-02-15 21:02:47,102 | root | INFO | Validation Request Content-Type\n",
      "2021-02-15 21:02:47,102 | root | INFO | Scoring Timer is set to 60.0 seconds\n",
      "2021-02-15 21:02:47,249 | root | INFO | 200\n",
      "127.0.0.1 - - [15/Feb/2021:21:02:47 +0000] \"POST /score?verbose=true HTTP/1.0\" 200 19 \"-\" \"Go-http-client/1.1\"\n",
      "2021-02-15 21:03:25,357 | root | INFO | Validation Request Content-Type\n",
      "2021-02-15 21:03:25,358 | root | INFO | Scoring Timer is set to 60.0 seconds\n",
      "2021-02-15 21:03:25,485 | root | INFO | 200\n",
      "127.0.0.1 - - [15/Feb/2021:21:03:25 +0000] \"POST /score HTTP/1.0\" 200 19 \"-\" \"python-requests/2.25.1\"\n",
      "2021-02-15 21:07:53,089 | root | INFO | 200\n",
      "127.0.0.1 - - [15/Feb/2021:21:07:53 +0000] \"GET /swagger.json HTTP/1.0\" 200 4056 \"-\" \"Go-http-client/1.1\"\n",
      "2021-02-15 21:07:53,674 | root | INFO | 200\n",
      "127.0.0.1 - - [15/Feb/2021:21:07:53 +0000] \"GET /swagger.json HTTP/1.0\" 200 4056 \"-\" \"Go-http-client/1.1\"\n",
      "2021-02-15 21:08:26,329 | root | INFO | Validation Request Content-Type\n",
      "2021-02-15 21:08:26,329 | root | INFO | Scoring Timer is set to 60.0 seconds\n",
      "2021-02-15 21:08:26,466 | root | INFO | 200\n",
      "127.0.0.1 - - [15/Feb/2021:21:08:26 +0000] \"POST /score?verbose=true HTTP/1.0\" 200 19 \"-\" \"Go-http-client/1.1\"\n",
      "2021-02-15 21:09:01,373 | root | INFO | Validation Request Content-Type\n",
      "2021-02-15 21:09:01,374 | root | INFO | Scoring Timer is set to 60.0 seconds\n",
      "2021-02-15 21:09:01,505 | root | INFO | 200\n",
      "127.0.0.1 - - [15/Feb/2021:21:09:01 +0000] \"POST /score HTTP/1.0\" 200 19 \"-\" \"python-requests/2.25.1\"\n",
      "\n"
     ]
    }
   ],
   "source": [
    "print(service.get_logs(()))"
   ]
  },
  {
   "cell_type": "code",
   "execution_count": null,
   "metadata": {},
   "outputs": [],
   "source": [
    "service.delete()"
   ]
  }
 ],
 "metadata": {
  "kernel_info": {
   "name": "python3-azureml"
  },
  "kernelspec": {
   "display_name": "Python 3",
   "language": "python",
   "name": "python3"
  },
  "language_info": {
   "codemirror_mode": {
    "name": "ipython",
    "version": 3
   },
   "file_extension": ".py",
   "mimetype": "text/x-python",
   "name": "python",
   "nbconvert_exporter": "python",
   "pygments_lexer": "ipython3",
   "version": "3.6.9"
  },
  "nteract": {
   "version": "nteract-front-end@1.0.0"
  }
 },
 "nbformat": 4,
 "nbformat_minor": 2
}
